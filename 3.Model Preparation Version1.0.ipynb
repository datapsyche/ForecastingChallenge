{
 "cells": [
  {
   "cell_type": "code",
   "execution_count": 98,
   "metadata": {},
   "outputs": [],
   "source": [
    "import pandas as pd\n",
    "import numpy as np\n",
    "from scipy.stats import randint as sp_randint\n",
    "from datetime import timedelta\n",
    "\n",
    "from sklearn.ensemble import RandomForestRegressor\n",
    "from sklearn.model_selection import GridSearchCV, RandomizedSearchCV\n",
    "\n",
    "import lightgbm as lg\n",
    "\n",
    "from xgboost import XGBRegressor\n",
    "from sklearn.decomposition import PCA\n",
    "\n",
    "from sklearn.preprocessing import MinMaxScaler\n",
    "from sklearn.preprocessing import minmax_scale\n",
    "from sklearn.preprocessing import MaxAbsScaler\n",
    "from sklearn.preprocessing import StandardScaler\n",
    "from sklearn.preprocessing import RobustScaler\n",
    "from sklearn.preprocessing import Normalizer\n",
    "from sklearn.preprocessing.data import QuantileTransformer"
   ]
  },
  {
   "cell_type": "code",
   "execution_count": 99,
   "metadata": {},
   "outputs": [],
   "source": [
    "def BuildData():\n",
    "    df=pd.read_csv('dataset/train.csv',index_col='Index')\n",
    "    trainingSet, testSet = train_test_split(df, test_size=0.2,shuffle=True)\n",
    "    print(len(trainingSet))\n",
    "    print(len(testSet))\n",
    "    trainingSet.to_csv(\"dataset/new_train.csv\", sep=',')\n",
    "    testSet.to_csv(\"dataset/new_test.csv\", sep=',')\n",
    "    return"
   ]
  },
  {
   "cell_type": "code",
   "execution_count": 100,
   "metadata": {},
   "outputs": [],
   "source": [
    "def getdf():\n",
    "    df=pd.read_csv('dataset/new_train.csv',index_col='Index')\n",
    "    df=df.dropna()\n",
    "    return df"
   ]
  },
  {
   "cell_type": "code",
   "execution_count": 101,
   "metadata": {},
   "outputs": [],
   "source": [
    "def encode(df):\n",
    "    df[\"Market\"] = df[\"Market\"].astype('category')\n",
    "    df[\"Day\"] = df[\"Day\"].astype('category')\n",
    "    df[\"Stock\"] = df[\"Stock\"].astype('category')\n",
    "    return df"
   ]
  },
  {
   "cell_type": "code",
   "execution_count": 102,
   "metadata": {},
   "outputs": [],
   "source": [
    "def scale(type_,df):\n",
    "    if type_=='minmax':\n",
    "        scaler = MinMaxScaler()\n",
    "    elif type_=='standard':\n",
    "        scaler = StandardScaler()\n",
    "    elif type_=='maxabs':\n",
    "        scaler= MaxAbsScaler()\n",
    "    elif type_=='robust':\n",
    "        scaler= RobustScaler()\n",
    "    elif type_=='QuantileTransformer':\n",
    "        scaler=QuantileTransformer()\n",
    "    elif type_=='Normalizer':\n",
    "        scaler=Normalizer()    \n",
    "    \n",
    "    df[['x0','x1','x2','x3A','x3B','x3C','x3D','x3E','x4','x5','x6']]=scaler.fit_transform(df[['x0','x1','x2','x3A','x3B','x3C','x3D','x3E','x4','x5','x6']])\n",
    "    return df"
   ]
  },
  {
   "cell_type": "code",
   "execution_count": 103,
   "metadata": {},
   "outputs": [],
   "source": [
    "def errorValue(y_pred,y,wt):\n",
    "    return (sum(wt*((y_pred-y)**2)))"
   ]
  },
  {
   "cell_type": "code",
   "execution_count": 104,
   "metadata": {},
   "outputs": [],
   "source": [
    "def addfeatures(df): \n",
    "    df['Date'] = pd.to_datetime(\"'2015-10-01'\") # assumption\n",
    "    df['Date'] = df['Date'] + df['Day'].map(timedelta) - timedelta(days=1)\n",
    "    df['Year'] = df['Date'].dt.year\n",
    "    df['Month'] = df['Date'].dt.month\n",
    "    df['Week'] = df['Date'].dt.weekofyear\n",
    "    df['Weekday'] = df['Date'].dt.weekday\n",
    "    df['DayMonth'] = df['Date'].dt.day\n",
    "    df=df.drop(['Date'],axis=1)\n",
    "    return df"
   ]
  },
  {
   "cell_type": "code",
   "execution_count": 113,
   "metadata": {},
   "outputs": [],
   "source": [
    "df=getdf()\n",
    "# df=addfeatures(df)\n",
    "df=encode(df)\n",
    "df=scale('standard',df)\n",
    "wt=df['Weight']\n",
    "x=df.drop(['Weight','y'],axis=1)    \n",
    "y=df['y']"
   ]
  },
  {
   "cell_type": "markdown",
   "metadata": {},
   "source": [
    "### Random Forest Model"
   ]
  },
  {
   "cell_type": "code",
   "execution_count": 17,
   "metadata": {},
   "outputs": [
    {
     "name": "stdout",
     "output_type": "stream",
     "text": [
      "Fitting 4 folds for each of 20 candidates, totalling 80 fits\n",
      "[CV] bootstrap=True, max_depth=None, max_features=8, min_samples_leaf=7, min_samples_split=6 \n",
      "[CV]  bootstrap=True, max_depth=None, max_features=8, min_samples_leaf=7, min_samples_split=6, total=  29.9s\n",
      "[CV] bootstrap=True, max_depth=None, max_features=8, min_samples_leaf=7, min_samples_split=6 \n"
     ]
    },
    {
     "name": "stderr",
     "output_type": "stream",
     "text": [
      "[Parallel(n_jobs=1)]: Done   1 out of   1 | elapsed:   31.0s remaining:    0.0s\n"
     ]
    },
    {
     "name": "stdout",
     "output_type": "stream",
     "text": [
      "[CV]  bootstrap=True, max_depth=None, max_features=8, min_samples_leaf=7, min_samples_split=6, total=  26.8s\n",
      "[CV] bootstrap=True, max_depth=None, max_features=8, min_samples_leaf=7, min_samples_split=6 \n",
      "[CV]  bootstrap=True, max_depth=None, max_features=8, min_samples_leaf=7, min_samples_split=6, total=  27.4s\n",
      "[CV] bootstrap=True, max_depth=None, max_features=8, min_samples_leaf=7, min_samples_split=6 \n",
      "[CV]  bootstrap=True, max_depth=None, max_features=8, min_samples_leaf=7, min_samples_split=6, total=  28.6s\n",
      "[CV] bootstrap=True, max_depth=None, max_features=15, min_samples_leaf=3, min_samples_split=16 \n",
      "[CV]  bootstrap=True, max_depth=None, max_features=15, min_samples_leaf=3, min_samples_split=16, total=  49.0s\n",
      "[CV] bootstrap=True, max_depth=None, max_features=15, min_samples_leaf=3, min_samples_split=16 \n",
      "[CV]  bootstrap=True, max_depth=None, max_features=15, min_samples_leaf=3, min_samples_split=16, total=  48.4s\n",
      "[CV] bootstrap=True, max_depth=None, max_features=15, min_samples_leaf=3, min_samples_split=16 \n",
      "[CV]  bootstrap=True, max_depth=None, max_features=15, min_samples_leaf=3, min_samples_split=16, total=  45.1s\n",
      "[CV] bootstrap=True, max_depth=None, max_features=15, min_samples_leaf=3, min_samples_split=16 \n",
      "[CV]  bootstrap=True, max_depth=None, max_features=15, min_samples_leaf=3, min_samples_split=16, total=  52.0s\n",
      "[CV] bootstrap=True, max_depth=3, max_features=10, min_samples_leaf=15, min_samples_split=5 \n",
      "[CV]  bootstrap=True, max_depth=3, max_features=10, min_samples_leaf=15, min_samples_split=5, total=  11.2s\n",
      "[CV] bootstrap=True, max_depth=3, max_features=10, min_samples_leaf=15, min_samples_split=5 \n",
      "[CV]  bootstrap=True, max_depth=3, max_features=10, min_samples_leaf=15, min_samples_split=5, total=  11.3s\n",
      "[CV] bootstrap=True, max_depth=3, max_features=10, min_samples_leaf=15, min_samples_split=5 \n",
      "[CV]  bootstrap=True, max_depth=3, max_features=10, min_samples_leaf=15, min_samples_split=5, total=  10.8s\n",
      "[CV] bootstrap=True, max_depth=3, max_features=10, min_samples_leaf=15, min_samples_split=5 \n",
      "[CV]  bootstrap=True, max_depth=3, max_features=10, min_samples_leaf=15, min_samples_split=5, total=  11.7s\n",
      "[CV] bootstrap=True, max_depth=3, max_features=6, min_samples_leaf=15, min_samples_split=2 \n",
      "[CV]  bootstrap=True, max_depth=3, max_features=6, min_samples_leaf=15, min_samples_split=2, total=   7.0s\n",
      "[CV] bootstrap=True, max_depth=3, max_features=6, min_samples_leaf=15, min_samples_split=2 \n",
      "[CV]  bootstrap=True, max_depth=3, max_features=6, min_samples_leaf=15, min_samples_split=2, total=   7.4s\n",
      "[CV] bootstrap=True, max_depth=3, max_features=6, min_samples_leaf=15, min_samples_split=2 \n",
      "[CV]  bootstrap=True, max_depth=3, max_features=6, min_samples_leaf=15, min_samples_split=2, total=   7.0s\n",
      "[CV] bootstrap=True, max_depth=3, max_features=6, min_samples_leaf=15, min_samples_split=2 \n",
      "[CV]  bootstrap=True, max_depth=3, max_features=6, min_samples_leaf=15, min_samples_split=2, total=   6.9s\n",
      "[CV] bootstrap=True, max_depth=3, max_features=3, min_samples_leaf=3, min_samples_split=6 \n",
      "[CV]  bootstrap=True, max_depth=3, max_features=3, min_samples_leaf=3, min_samples_split=6, total=   4.4s\n",
      "[CV] bootstrap=True, max_depth=3, max_features=3, min_samples_leaf=3, min_samples_split=6 \n",
      "[CV]  bootstrap=True, max_depth=3, max_features=3, min_samples_leaf=3, min_samples_split=6, total=   4.2s\n",
      "[CV] bootstrap=True, max_depth=3, max_features=3, min_samples_leaf=3, min_samples_split=6 \n",
      "[CV]  bootstrap=True, max_depth=3, max_features=3, min_samples_leaf=3, min_samples_split=6, total=   4.3s\n",
      "[CV] bootstrap=True, max_depth=3, max_features=3, min_samples_leaf=3, min_samples_split=6 \n",
      "[CV]  bootstrap=True, max_depth=3, max_features=3, min_samples_leaf=3, min_samples_split=6, total=   4.3s\n",
      "[CV] bootstrap=True, max_depth=3, max_features=1, min_samples_leaf=12, min_samples_split=16 \n",
      "[CV]  bootstrap=True, max_depth=3, max_features=1, min_samples_leaf=12, min_samples_split=16, total=   2.2s\n",
      "[CV] bootstrap=True, max_depth=3, max_features=1, min_samples_leaf=12, min_samples_split=16 \n",
      "[CV]  bootstrap=True, max_depth=3, max_features=1, min_samples_leaf=12, min_samples_split=16, total=   2.0s\n",
      "[CV] bootstrap=True, max_depth=3, max_features=1, min_samples_leaf=12, min_samples_split=16 \n",
      "[CV]  bootstrap=True, max_depth=3, max_features=1, min_samples_leaf=12, min_samples_split=16, total=   2.2s\n",
      "[CV] bootstrap=True, max_depth=3, max_features=1, min_samples_leaf=12, min_samples_split=16 \n",
      "[CV]  bootstrap=True, max_depth=3, max_features=1, min_samples_leaf=12, min_samples_split=16, total=   2.2s\n",
      "[CV] bootstrap=True, max_depth=None, max_features=15, min_samples_leaf=1, min_samples_split=7 \n",
      "[CV]  bootstrap=True, max_depth=None, max_features=15, min_samples_leaf=1, min_samples_split=7, total=  47.3s\n",
      "[CV] bootstrap=True, max_depth=None, max_features=15, min_samples_leaf=1, min_samples_split=7 \n",
      "[CV]  bootstrap=True, max_depth=None, max_features=15, min_samples_leaf=1, min_samples_split=7, total=  48.1s\n",
      "[CV] bootstrap=True, max_depth=None, max_features=15, min_samples_leaf=1, min_samples_split=7 \n",
      "[CV]  bootstrap=True, max_depth=None, max_features=15, min_samples_leaf=1, min_samples_split=7, total=  51.5s\n",
      "[CV] bootstrap=True, max_depth=None, max_features=15, min_samples_leaf=1, min_samples_split=7 \n",
      "[CV]  bootstrap=True, max_depth=None, max_features=15, min_samples_leaf=1, min_samples_split=7, total=  49.9s\n",
      "[CV] bootstrap=True, max_depth=None, max_features=16, min_samples_leaf=7, min_samples_split=15 \n",
      "[CV]  bootstrap=True, max_depth=None, max_features=16, min_samples_leaf=7, min_samples_split=15, total=  47.9s\n",
      "[CV] bootstrap=True, max_depth=None, max_features=16, min_samples_leaf=7, min_samples_split=15 \n",
      "[CV]  bootstrap=True, max_depth=None, max_features=16, min_samples_leaf=7, min_samples_split=15, total=  48.4s\n",
      "[CV] bootstrap=True, max_depth=None, max_features=16, min_samples_leaf=7, min_samples_split=15 \n",
      "[CV]  bootstrap=True, max_depth=None, max_features=16, min_samples_leaf=7, min_samples_split=15, total=  46.8s\n",
      "[CV] bootstrap=True, max_depth=None, max_features=16, min_samples_leaf=7, min_samples_split=15 \n",
      "[CV]  bootstrap=True, max_depth=None, max_features=16, min_samples_leaf=7, min_samples_split=15, total=  50.0s\n",
      "[CV] bootstrap=True, max_depth=None, max_features=14, min_samples_leaf=4, min_samples_split=6 \n",
      "[CV]  bootstrap=True, max_depth=None, max_features=14, min_samples_leaf=4, min_samples_split=6, total=  45.5s\n",
      "[CV] bootstrap=True, max_depth=None, max_features=14, min_samples_leaf=4, min_samples_split=6 \n",
      "[CV]  bootstrap=True, max_depth=None, max_features=14, min_samples_leaf=4, min_samples_split=6, total=  46.2s\n",
      "[CV] bootstrap=True, max_depth=None, max_features=14, min_samples_leaf=4, min_samples_split=6 \n",
      "[CV]  bootstrap=True, max_depth=None, max_features=14, min_samples_leaf=4, min_samples_split=6, total=  45.7s\n",
      "[CV] bootstrap=True, max_depth=None, max_features=14, min_samples_leaf=4, min_samples_split=6 \n",
      "[CV]  bootstrap=True, max_depth=None, max_features=14, min_samples_leaf=4, min_samples_split=6, total=  46.6s\n",
      "[CV] bootstrap=True, max_depth=3, max_features=13, min_samples_leaf=9, min_samples_split=14 \n",
      "[CV]  bootstrap=True, max_depth=3, max_features=13, min_samples_leaf=9, min_samples_split=14, total=  14.0s\n",
      "[CV] bootstrap=True, max_depth=3, max_features=13, min_samples_leaf=9, min_samples_split=14 \n",
      "[CV]  bootstrap=True, max_depth=3, max_features=13, min_samples_leaf=9, min_samples_split=14, total=  13.9s\n",
      "[CV] bootstrap=True, max_depth=3, max_features=13, min_samples_leaf=9, min_samples_split=14 \n",
      "[CV]  bootstrap=True, max_depth=3, max_features=13, min_samples_leaf=9, min_samples_split=14, total=  14.5s\n",
      "[CV] bootstrap=True, max_depth=3, max_features=13, min_samples_leaf=9, min_samples_split=14 \n",
      "[CV]  bootstrap=True, max_depth=3, max_features=13, min_samples_leaf=9, min_samples_split=14, total=  14.0s\n",
      "[CV] bootstrap=True, max_depth=3, max_features=5, min_samples_leaf=14, min_samples_split=3 \n",
      "[CV]  bootstrap=True, max_depth=3, max_features=5, min_samples_leaf=14, min_samples_split=3, total=   6.1s\n",
      "[CV] bootstrap=True, max_depth=3, max_features=5, min_samples_leaf=14, min_samples_split=3 \n",
      "[CV]  bootstrap=True, max_depth=3, max_features=5, min_samples_leaf=14, min_samples_split=3, total=   6.2s\n",
      "[CV] bootstrap=True, max_depth=3, max_features=5, min_samples_leaf=14, min_samples_split=3 \n"
     ]
    },
    {
     "name": "stdout",
     "output_type": "stream",
     "text": [
      "[CV]  bootstrap=True, max_depth=3, max_features=5, min_samples_leaf=14, min_samples_split=3, total=   7.1s\n",
      "[CV] bootstrap=True, max_depth=3, max_features=5, min_samples_leaf=14, min_samples_split=3 \n",
      "[CV]  bootstrap=True, max_depth=3, max_features=5, min_samples_leaf=14, min_samples_split=3, total=   6.3s\n",
      "[CV] bootstrap=True, max_depth=3, max_features=14, min_samples_leaf=7, min_samples_split=10 \n",
      "[CV]  bootstrap=True, max_depth=3, max_features=14, min_samples_leaf=7, min_samples_split=10, total=  15.6s\n",
      "[CV] bootstrap=True, max_depth=3, max_features=14, min_samples_leaf=7, min_samples_split=10 \n",
      "[CV]  bootstrap=True, max_depth=3, max_features=14, min_samples_leaf=7, min_samples_split=10, total=  15.3s\n",
      "[CV] bootstrap=True, max_depth=3, max_features=14, min_samples_leaf=7, min_samples_split=10 \n",
      "[CV]  bootstrap=True, max_depth=3, max_features=14, min_samples_leaf=7, min_samples_split=10, total=  15.2s\n",
      "[CV] bootstrap=True, max_depth=3, max_features=14, min_samples_leaf=7, min_samples_split=10 \n",
      "[CV]  bootstrap=True, max_depth=3, max_features=14, min_samples_leaf=7, min_samples_split=10, total=  15.6s\n",
      "[CV] bootstrap=True, max_depth=None, max_features=4, min_samples_leaf=13, min_samples_split=15 \n",
      "[CV]  bootstrap=True, max_depth=None, max_features=4, min_samples_leaf=13, min_samples_split=15, total=  16.4s\n",
      "[CV] bootstrap=True, max_depth=None, max_features=4, min_samples_leaf=13, min_samples_split=15 \n",
      "[CV]  bootstrap=True, max_depth=None, max_features=4, min_samples_leaf=13, min_samples_split=15, total=  15.9s\n",
      "[CV] bootstrap=True, max_depth=None, max_features=4, min_samples_leaf=13, min_samples_split=15 \n",
      "[CV]  bootstrap=True, max_depth=None, max_features=4, min_samples_leaf=13, min_samples_split=15, total=  17.7s\n",
      "[CV] bootstrap=True, max_depth=None, max_features=4, min_samples_leaf=13, min_samples_split=15 \n",
      "[CV]  bootstrap=True, max_depth=None, max_features=4, min_samples_leaf=13, min_samples_split=15, total=  17.1s\n",
      "[CV] bootstrap=True, max_depth=3, max_features=4, min_samples_leaf=11, min_samples_split=6 \n",
      "[CV]  bootstrap=True, max_depth=3, max_features=4, min_samples_leaf=11, min_samples_split=6, total=   5.2s\n",
      "[CV] bootstrap=True, max_depth=3, max_features=4, min_samples_leaf=11, min_samples_split=6 \n",
      "[CV]  bootstrap=True, max_depth=3, max_features=4, min_samples_leaf=11, min_samples_split=6, total=   5.1s\n",
      "[CV] bootstrap=True, max_depth=3, max_features=4, min_samples_leaf=11, min_samples_split=6 \n",
      "[CV]  bootstrap=True, max_depth=3, max_features=4, min_samples_leaf=11, min_samples_split=6, total=   5.2s\n",
      "[CV] bootstrap=True, max_depth=3, max_features=4, min_samples_leaf=11, min_samples_split=6 \n",
      "[CV]  bootstrap=True, max_depth=3, max_features=4, min_samples_leaf=11, min_samples_split=6, total=   5.7s\n",
      "[CV] bootstrap=True, max_depth=None, max_features=12, min_samples_leaf=12, min_samples_split=9 \n",
      "[CV]  bootstrap=True, max_depth=None, max_features=12, min_samples_leaf=12, min_samples_split=9, total=  37.5s\n",
      "[CV] bootstrap=True, max_depth=None, max_features=12, min_samples_leaf=12, min_samples_split=9 \n",
      "[CV]  bootstrap=True, max_depth=None, max_features=12, min_samples_leaf=12, min_samples_split=9, total=  39.5s\n",
      "[CV] bootstrap=True, max_depth=None, max_features=12, min_samples_leaf=12, min_samples_split=9 \n",
      "[CV]  bootstrap=True, max_depth=None, max_features=12, min_samples_leaf=12, min_samples_split=9, total=  38.3s\n",
      "[CV] bootstrap=True, max_depth=None, max_features=12, min_samples_leaf=12, min_samples_split=9 \n",
      "[CV]  bootstrap=True, max_depth=None, max_features=12, min_samples_leaf=12, min_samples_split=9, total=  36.8s\n",
      "[CV] bootstrap=True, max_depth=3, max_features=9, min_samples_leaf=8, min_samples_split=5 \n",
      "[CV]  bootstrap=True, max_depth=3, max_features=9, min_samples_leaf=8, min_samples_split=5, total=  10.2s\n",
      "[CV] bootstrap=True, max_depth=3, max_features=9, min_samples_leaf=8, min_samples_split=5 \n",
      "[CV]  bootstrap=True, max_depth=3, max_features=9, min_samples_leaf=8, min_samples_split=5, total=  10.1s\n",
      "[CV] bootstrap=True, max_depth=3, max_features=9, min_samples_leaf=8, min_samples_split=5 \n",
      "[CV]  bootstrap=True, max_depth=3, max_features=9, min_samples_leaf=8, min_samples_split=5, total=   9.9s\n",
      "[CV] bootstrap=True, max_depth=3, max_features=9, min_samples_leaf=8, min_samples_split=5 \n",
      "[CV]  bootstrap=True, max_depth=3, max_features=9, min_samples_leaf=8, min_samples_split=5, total=  10.4s\n",
      "[CV] bootstrap=True, max_depth=3, max_features=11, min_samples_leaf=2, min_samples_split=4 \n",
      "[CV]  bootstrap=True, max_depth=3, max_features=11, min_samples_leaf=2, min_samples_split=4, total=  12.0s\n",
      "[CV] bootstrap=True, max_depth=3, max_features=11, min_samples_leaf=2, min_samples_split=4 \n",
      "[CV]  bootstrap=True, max_depth=3, max_features=11, min_samples_leaf=2, min_samples_split=4, total=  12.4s\n",
      "[CV] bootstrap=True, max_depth=3, max_features=11, min_samples_leaf=2, min_samples_split=4 \n",
      "[CV]  bootstrap=True, max_depth=3, max_features=11, min_samples_leaf=2, min_samples_split=4, total=  12.3s\n",
      "[CV] bootstrap=True, max_depth=3, max_features=11, min_samples_leaf=2, min_samples_split=4 \n",
      "[CV]  bootstrap=True, max_depth=3, max_features=11, min_samples_leaf=2, min_samples_split=4, total=  12.0s\n",
      "[CV] bootstrap=True, max_depth=3, max_features=9, min_samples_leaf=4, min_samples_split=10 \n",
      "[CV]  bootstrap=True, max_depth=3, max_features=9, min_samples_leaf=4, min_samples_split=10, total=   9.7s\n",
      "[CV] bootstrap=True, max_depth=3, max_features=9, min_samples_leaf=4, min_samples_split=10 \n",
      "[CV]  bootstrap=True, max_depth=3, max_features=9, min_samples_leaf=4, min_samples_split=10, total=  10.5s\n",
      "[CV] bootstrap=True, max_depth=3, max_features=9, min_samples_leaf=4, min_samples_split=10 \n",
      "[CV]  bootstrap=True, max_depth=3, max_features=9, min_samples_leaf=4, min_samples_split=10, total=  10.0s\n",
      "[CV] bootstrap=True, max_depth=3, max_features=9, min_samples_leaf=4, min_samples_split=10 \n",
      "[CV]  bootstrap=True, max_depth=3, max_features=9, min_samples_leaf=4, min_samples_split=10, total=   9.9s\n",
      "[CV] bootstrap=True, max_depth=3, max_features=11, min_samples_leaf=7, min_samples_split=16 \n",
      "[CV]  bootstrap=True, max_depth=3, max_features=11, min_samples_leaf=7, min_samples_split=16, total=  12.0s\n",
      "[CV] bootstrap=True, max_depth=3, max_features=11, min_samples_leaf=7, min_samples_split=16 \n",
      "[CV]  bootstrap=True, max_depth=3, max_features=11, min_samples_leaf=7, min_samples_split=16, total=  12.2s\n",
      "[CV] bootstrap=True, max_depth=3, max_features=11, min_samples_leaf=7, min_samples_split=16 \n",
      "[CV]  bootstrap=True, max_depth=3, max_features=11, min_samples_leaf=7, min_samples_split=16, total=  12.6s\n",
      "[CV] bootstrap=True, max_depth=3, max_features=11, min_samples_leaf=7, min_samples_split=16 \n",
      "[CV]  bootstrap=True, max_depth=3, max_features=11, min_samples_leaf=7, min_samples_split=16, total=  12.1s\n",
      "[CV] bootstrap=True, max_depth=3, max_features=6, min_samples_leaf=7, min_samples_split=8 \n",
      "[CV]  bootstrap=True, max_depth=3, max_features=6, min_samples_leaf=7, min_samples_split=8, total=   7.2s\n",
      "[CV] bootstrap=True, max_depth=3, max_features=6, min_samples_leaf=7, min_samples_split=8 \n",
      "[CV]  bootstrap=True, max_depth=3, max_features=6, min_samples_leaf=7, min_samples_split=8, total=   7.0s\n",
      "[CV] bootstrap=True, max_depth=3, max_features=6, min_samples_leaf=7, min_samples_split=8 \n",
      "[CV]  bootstrap=True, max_depth=3, max_features=6, min_samples_leaf=7, min_samples_split=8, total=   7.2s\n",
      "[CV] bootstrap=True, max_depth=3, max_features=6, min_samples_leaf=7, min_samples_split=8 \n",
      "[CV]  bootstrap=True, max_depth=3, max_features=6, min_samples_leaf=7, min_samples_split=8, total=   7.4s\n"
     ]
    },
    {
     "name": "stderr",
     "output_type": "stream",
     "text": [
      "[Parallel(n_jobs=1)]: Done  80 out of  80 | elapsed: 27.2min finished\n"
     ]
    },
    {
     "name": "stdout",
     "output_type": "stream",
     "text": [
      "0.4204971306673579 5\n",
      "{'bootstrap': True, 'max_depth': None, 'max_features': 12, 'min_samples_leaf': 12, 'min_samples_split': 9}\n"
     ]
    }
   ],
   "source": [
    "X=x\n",
    "param_dist = {\"max_depth\": [3, None],\n",
    "              \"max_features\": sp_randint(1, 17),\n",
    "              \"min_samples_split\": sp_randint(2, 17),\n",
    "              \"min_samples_leaf\": sp_randint(1, 17),\n",
    "              \"bootstrap\": [True]}\n",
    "n_iter_search = 20\n",
    "model = RandomForestRegressor()\n",
    "RF = RandomizedSearchCV(model,param_distributions=param_dist,n_iter=n_iter_search,cv=4,verbose=2)\n",
    "RF.fit(X, y)\n",
    "y_pred=RF.predict(X)\n",
    "print(errorValue(y_pred,y,wt),5)\n",
    "print(RF.best_params_)"
   ]
  },
  {
   "cell_type": "code",
   "execution_count": 114,
   "metadata": {},
   "outputs": [
    {
     "name": "stdout",
     "output_type": "stream",
     "text": [
      "0.42165984777146154 5\n"
     ]
    }
   ],
   "source": [
    "X=x\n",
    "model_RF = RandomForestRegressor(bootstrap= True,max_depth= None, max_features=12, min_samples_leaf=12, min_samples_split= 9)\n",
    "model_RF.fit(X,y)\n",
    "y_pred=model_RF.predict(X)\n",
    "print(errorValue(y_pred,y,wt),5)"
   ]
  },
  {
   "cell_type": "code",
   "execution_count": 21,
   "metadata": {},
   "outputs": [
    {
     "name": "stdout",
     "output_type": "stream",
     "text": [
      "Features       Values\n",
      "x4 \t\t 0.1856\n",
      "x3E \t\t 0.1313\n",
      "x3D \t\t 0.075\n",
      "x5 \t\t 0.0725\n",
      "x6 \t\t 0.0682\n",
      "x3A \t\t 0.0617\n",
      "x3C \t\t 0.0534\n",
      "x3B \t\t 0.0484\n",
      "x1 \t\t 0.0465\n",
      "Market \t\t 0.0436\n",
      "x0 \t\t 0.042\n",
      "x2 \t\t 0.0413\n",
      "Day \t\t 0.0361\n",
      "Stock \t\t 0.0334\n",
      "DayMonth \t\t 0.0222\n",
      "Week \t\t 0.0202\n",
      "Weekday \t\t 0.0098\n",
      "Month \t\t 0.0072\n",
      "Year \t\t 0.0017\n"
     ]
    }
   ],
   "source": [
    "imp_list=np.around(np.array(model.feature_importances_),4)\n",
    "feature_list=sorted(zip(imp_list, X.columns),reverse=True)\n",
    "print(\"Features       Values\")\n",
    "for item in feature_list:\n",
    "    print(item[1],\"\\t\\t\",round(item[0],4))"
   ]
  },
  {
   "cell_type": "markdown",
   "metadata": {},
   "source": [
    "### XGBoost Model"
   ]
  },
  {
   "cell_type": "code",
   "execution_count": 116,
   "metadata": {},
   "outputs": [],
   "source": [
    "df=getdf()\n",
    "# df=addfeatures(df)\n",
    "df=scale('standard',df)\n",
    "wt=df['Weight']\n",
    "x=df.drop(['Weight','y'],axis=1)    \n",
    "y=df['y']"
   ]
  },
  {
   "cell_type": "code",
   "execution_count": 36,
   "metadata": {},
   "outputs": [
    {
     "name": "stderr",
     "output_type": "stream",
     "text": [
      "Exception ignored in: <bound method DMatrix.__del__ of <xgboost.core.DMatrix object at 0x7f140adece80>>\n",
      "Traceback (most recent call last):\n",
      "  File \"/home/jithin/anaconda3/lib/python3.6/site-packages/xgboost/core.py\", line 366, in __del__\n",
      "    if self.handle is not None:\n",
      "AttributeError: 'DMatrix' object has no attribute 'handle'\n"
     ]
    },
    {
     "name": "stdout",
     "output_type": "stream",
     "text": [
      "Fitting 3 folds for each of 9 candidates, totalling 27 fits\n",
      "[CV] learning_rate=0.1, max_depth=2 ..................................\n",
      "[CV] ................... learning_rate=0.1, max_depth=2, total=  52.7s\n",
      "[CV] learning_rate=0.1, max_depth=2 ..................................\n"
     ]
    },
    {
     "name": "stderr",
     "output_type": "stream",
     "text": [
      "[Parallel(n_jobs=1)]: Done   1 out of   1 | elapsed:   53.3s remaining:    0.0s\n"
     ]
    },
    {
     "name": "stdout",
     "output_type": "stream",
     "text": [
      "[CV] ................... learning_rate=0.1, max_depth=2, total=  55.7s\n",
      "[CV] learning_rate=0.1, max_depth=2 ..................................\n",
      "[CV] ................... learning_rate=0.1, max_depth=2, total=  52.7s\n",
      "[CV] learning_rate=0.1, max_depth=7 ..................................\n",
      "[CV] ................... learning_rate=0.1, max_depth=7, total= 2.7min\n",
      "[CV] learning_rate=0.1, max_depth=7 ..................................\n",
      "[CV] ................... learning_rate=0.1, max_depth=7, total= 2.6min\n",
      "[CV] learning_rate=0.1, max_depth=7 ..................................\n",
      "[CV] ................... learning_rate=0.1, max_depth=7, total= 2.7min\n",
      "[CV] learning_rate=0.1, max_depth=11 .................................\n",
      "[CV] .................. learning_rate=0.1, max_depth=11, total= 4.2min\n",
      "[CV] learning_rate=0.1, max_depth=11 .................................\n",
      "[CV] .................. learning_rate=0.1, max_depth=11, total= 4.1min\n",
      "[CV] learning_rate=0.1, max_depth=11 .................................\n",
      "[CV] .................. learning_rate=0.1, max_depth=11, total= 4.1min\n",
      "[CV] learning_rate=0.01, max_depth=2 .................................\n",
      "[CV] .................. learning_rate=0.01, max_depth=2, total=  24.6s\n",
      "[CV] learning_rate=0.01, max_depth=2 .................................\n",
      "[CV] .................. learning_rate=0.01, max_depth=2, total=  24.9s\n",
      "[CV] learning_rate=0.01, max_depth=2 .................................\n",
      "[CV] .................. learning_rate=0.01, max_depth=2, total=  24.5s\n",
      "[CV] learning_rate=0.01, max_depth=7 .................................\n",
      "[CV] .................. learning_rate=0.01, max_depth=7, total=  24.6s\n",
      "[CV] learning_rate=0.01, max_depth=7 .................................\n",
      "[CV] .................. learning_rate=0.01, max_depth=7, total=  24.4s\n",
      "[CV] learning_rate=0.01, max_depth=7 .................................\n",
      "[CV] .................. learning_rate=0.01, max_depth=7, total=  24.6s\n",
      "[CV] learning_rate=0.01, max_depth=11 ................................\n",
      "[CV] ................. learning_rate=0.01, max_depth=11, total=  24.7s\n",
      "[CV] learning_rate=0.01, max_depth=11 ................................\n",
      "[CV] ................. learning_rate=0.01, max_depth=11, total=  24.6s\n",
      "[CV] learning_rate=0.01, max_depth=11 ................................\n",
      "[CV] ................. learning_rate=0.01, max_depth=11, total=  24.5s\n",
      "[CV] learning_rate=0.001, max_depth=2 ................................\n",
      "[CV] ................. learning_rate=0.001, max_depth=2, total=  24.7s\n",
      "[CV] learning_rate=0.001, max_depth=2 ................................\n",
      "[CV] ................. learning_rate=0.001, max_depth=2, total=  25.6s\n",
      "[CV] learning_rate=0.001, max_depth=2 ................................\n",
      "[CV] ................. learning_rate=0.001, max_depth=2, total=  24.6s\n",
      "[CV] learning_rate=0.001, max_depth=7 ................................\n",
      "[CV] ................. learning_rate=0.001, max_depth=7, total=  24.5s\n",
      "[CV] learning_rate=0.001, max_depth=7 ................................\n",
      "[CV] ................. learning_rate=0.001, max_depth=7, total=  24.7s\n",
      "[CV] learning_rate=0.001, max_depth=7 ................................\n",
      "[CV] ................. learning_rate=0.001, max_depth=7, total=  24.7s\n",
      "[CV] learning_rate=0.001, max_depth=11 ...............................\n",
      "[CV] ................ learning_rate=0.001, max_depth=11, total=  24.9s\n",
      "[CV] learning_rate=0.001, max_depth=11 ...............................\n",
      "[CV] ................ learning_rate=0.001, max_depth=11, total=  24.7s\n",
      "[CV] learning_rate=0.001, max_depth=11 ...............................\n",
      "[CV] ................ learning_rate=0.001, max_depth=11, total=  24.6s\n"
     ]
    },
    {
     "name": "stderr",
     "output_type": "stream",
     "text": [
      "[Parallel(n_jobs=1)]: Done  27 out of  27 | elapsed: 30.9min finished\n"
     ]
    },
    {
     "name": "stdout",
     "output_type": "stream",
     "text": [
      "0.45000201694990305\n",
      "{'learning_rate': 0.1, 'max_depth': 7}\n"
     ]
    }
   ],
   "source": [
    "X=x\n",
    "param_dist = {'learning_rate':[.1,.01,.001],'max_depth':[2,7,11]}\n",
    "model = XGBRegressor(booster='dart')\n",
    "grid_XG = GridSearchCV(model,param_dist, cv=3,verbose = 2)\n",
    "grid_XG.fit(X, y)\n",
    "y_pred=grid_XG.predict(X)\n",
    "print(errorValue(y_pred,y,wt))\n",
    "print(grid_XG.best_params_)"
   ]
  },
  {
   "cell_type": "code",
   "execution_count": 117,
   "metadata": {},
   "outputs": [
    {
     "name": "stdout",
     "output_type": "stream",
     "text": [
      "0.4551206270632664 5\n"
     ]
    }
   ],
   "source": [
    "X=x\n",
    "model_XGB = XGBRegressor(booster='dart',learning_rate= 0.1, max_depth= 7)\n",
    "model_XGB.fit(X,y)\n",
    "y_pred=model_XGB.predict(X)\n",
    "print(errorValue(y_pred,y,wt),5)"
   ]
  },
  {
   "cell_type": "markdown",
   "metadata": {},
   "source": [
    "### Light GBM "
   ]
  },
  {
   "cell_type": "code",
   "execution_count": 119,
   "metadata": {},
   "outputs": [],
   "source": [
    "df=getdf()\n",
    "# df=addfeatures(df)\n",
    "df=scale('standard',df)\n",
    "wt=df['Weight']\n",
    "x=df.drop(['Weight','y'],axis=1)    \n",
    "y=df['y']"
   ]
  },
  {
   "cell_type": "code",
   "execution_count": 121,
   "metadata": {},
   "outputs": [
    {
     "name": "stderr",
     "output_type": "stream",
     "text": [
      "/home/jithin/anaconda3/lib/python3.6/site-packages/lightgbm/basic.py:1036: UserWarning: Using categorical_feature in Dataset.\n",
      "  warnings.warn('Using categorical_feature in Dataset.')\n"
     ]
    },
    {
     "name": "stdout",
     "output_type": "stream",
     "text": [
      "0.3962025107608086\n"
     ]
    }
   ],
   "source": [
    "train = lg.Dataset(x, y, categorical_feature=[0,1,2], weight=df.Weight, free_raw_data=False)\n",
    "\n",
    "parameters={'boosting_type':'gbdt','learning_rate':.05}\n",
    "boosts = 200\n",
    "num_ensembles = 5\n",
    "y_pred = 0.0\n",
    "\n",
    "for i in range(num_ensembles):\n",
    "    model = lg.train(params=parameters,train_set=train,num_boost_round=boosts ) \n",
    "    y_pred +=  model.predict(data=x)\n",
    "y_pred /= num_ensembles\n",
    "\n",
    "# model_lgbm = lg.train(train_set=train,params=)\n",
    "# y_pred = model_lgbm.predict(data=x)\n",
    "print(errorValue(y_pred,y,wt))"
   ]
  },
  {
   "cell_type": "markdown",
   "metadata": {},
   "source": [
    "# Inference and learning from this Project"
   ]
  },
  {
   "cell_type": "markdown",
   "metadata": {},
   "source": [
    "The Project was based on a challenge which was previously attempted by the best minds in the industry with a considerable price money. This project introduced me to the concept of Boosting in particular the XG Boost and Light GBM. I got the least error by applying the Light GBM model while gradient boosting continued to give a very high error the test data. \n",
    "\n",
    "One challenge i faced was when i tried to  use get dummies to encode the categorical data of Market, Stock and Day which actualy breaks my memory. So i had to stop working on it and my idea. \n",
    "\n",
    "Further improvement. \n",
    "\n",
    "1) Categorizing the stocks (creating a unsupervised learning model and get some clusters of stock like (High Performing Stock, Low Performing stock etc) and then use this as one of the feature.\n",
    "\n",
    "2) Feature X4 and a combination of X4 with other variables as new feature (This method was used by one of the top 3 candidates for their model)"
   ]
  },
  {
   "cell_type": "markdown",
   "metadata": {},
   "source": [
    "# Testing with Test Data"
   ]
  },
  {
   "cell_type": "code",
   "execution_count": 107,
   "metadata": {},
   "outputs": [],
   "source": [
    "def getdf_test():\n",
    "    df=pd.read_csv('dataset/new_test.csv',index_col='Index')\n",
    "    df=df.dropna()\n",
    "    return df"
   ]
  },
  {
   "cell_type": "code",
   "execution_count": 111,
   "metadata": {},
   "outputs": [],
   "source": [
    "df=getdf_test()\n",
    "df=scale('standard',df)\n",
    "wt=df['Weight']\n",
    "x=df.drop(['Weight','y'],axis=1)    \n",
    "y=df['y']"
   ]
  },
  {
   "cell_type": "code",
   "execution_count": 115,
   "metadata": {},
   "outputs": [
    {
     "name": "stdout",
     "output_type": "stream",
     "text": [
      "0.42165984777146154\n"
     ]
    }
   ],
   "source": [
    "X=x\n",
    "y_pred=model_RF.predict(X)\n",
    "print(errorValue(y_pred,y,wt))"
   ]
  },
  {
   "cell_type": "code",
   "execution_count": 118,
   "metadata": {},
   "outputs": [
    {
     "name": "stdout",
     "output_type": "stream",
     "text": [
      "0.4551206270632664\n"
     ]
    }
   ],
   "source": [
    "X=x\n",
    "Y=y\n",
    "Wt=wt\n",
    "\n",
    "y_pred=model_XGB.predict(X)\n",
    "print(errorValue(y_pred,Y,Wt))"
   ]
  },
  {
   "cell_type": "code",
   "execution_count": 123,
   "metadata": {},
   "outputs": [
    {
     "name": "stdout",
     "output_type": "stream",
     "text": [
      "0.3962025107608086\n"
     ]
    }
   ],
   "source": [
    "df=getdf()\n",
    "df=scale('standard',df)\n",
    "wt=df['Weight']\n",
    "x=df.drop(['Weight','y'],axis=1)    \n",
    "y=df['y'] \n",
    "\n",
    "y_pred = model.predict(data=x)\n",
    "print(errorValue(y_pred,y,wt))"
   ]
  },
  {
   "cell_type": "code",
   "execution_count": null,
   "metadata": {},
   "outputs": [],
   "source": []
  }
 ],
 "metadata": {
  "kernelspec": {
   "display_name": "Python 3",
   "language": "python",
   "name": "python3"
  },
  "language_info": {
   "codemirror_mode": {
    "name": "ipython",
    "version": 3
   },
   "file_extension": ".py",
   "mimetype": "text/x-python",
   "name": "python",
   "nbconvert_exporter": "python",
   "pygments_lexer": "ipython3",
   "version": "3.6.4"
  }
 },
 "nbformat": 4,
 "nbformat_minor": 2
}
