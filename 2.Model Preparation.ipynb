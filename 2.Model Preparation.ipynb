{
 "cells": [
  {
   "cell_type": "code",
   "execution_count": 1,
   "metadata": {},
   "outputs": [],
   "source": [
    "import pandas as pd\n",
    "import numpy as np\n",
    "\n",
    "from statsmodels.stats.outliers_influence import variance_inflation_factor\n",
    "from sklearn.model_selection import train_test_split\n",
    "from sklearn.linear_model import LinearRegression,Ridge,Lasso\n",
    "from sklearn.neighbors import KNeighborsRegressor\n",
    "from sklearn.naive_bayes import GaussianNB\n",
    "from sklearn.svm import SVR\n",
    "from sklearn.tree import DecisionTreeRegressor\n",
    "from sklearn.ensemble import RandomForestRegressor\n",
    "from sklearn.metrics import mean_absolute_error,explained_variance_score,mean_squared_error\n",
    "from sklearn.metrics import r2_score\n",
    "from math import sqrt\n",
    "from sklearn.model_selection import cross_validate\n",
    "from sklearn.model_selection import GridSearchCV\n",
    "from xgboost import XGBRegressor\n",
    "from sklearn.preprocessing import LabelEncoder,OneHotEncoder\n",
    "\n",
    "\n",
    "#Scaling \n",
    "from sklearn.preprocessing import MinMaxScaler\n",
    "from sklearn.preprocessing import minmax_scale\n",
    "from sklearn.preprocessing import MaxAbsScaler\n",
    "from sklearn.preprocessing import StandardScaler\n",
    "from sklearn.preprocessing import RobustScaler\n",
    "from sklearn.preprocessing import Normalizer\n",
    "from sklearn.preprocessing.data import QuantileTransformer\n",
    "\n"
   ]
  },
  {
   "cell_type": "code",
   "execution_count": null,
   "metadata": {},
   "outputs": [],
   "source": []
  },
  {
   "cell_type": "code",
   "execution_count": 115,
   "metadata": {},
   "outputs": [
    {
     "name": "stdout",
     "output_type": "stream",
     "text": [
      "499053\n",
      "124764\n"
     ]
    }
   ],
   "source": [
    "def BuildData():\n",
    "    df=pd.read_csv('dataset/train.csv',index_col='Index')\n",
    "    trainingSet, testSet = train_test_split(df, test_size=0.2,shuffle=True)\n",
    "    print(len(trainingSet))\n",
    "    print(len(testSet))\n",
    "    trainingSet.to_csv(\"dataset/new_train.csv\", sep=',')\n",
    "    testSet.to_csv(\"dataset/new_test.csv\", sep=',')\n",
    "    return"
   ]
  },
  {
   "cell_type": "code",
   "execution_count": 2,
   "metadata": {},
   "outputs": [],
   "source": [
    "def getxy():\n",
    "    df=pd.read_csv('dataset/new_train.csv',index_col='Index')\n",
    "    df=df.dropna()\n",
    "#     x_train, x_test, y_train, y_test = train_test_split(df.drop(['y',],axis=1),df['y'],test_size=0.20)\n",
    "#     x_train_weight=x_train['Weight']\n",
    "#     x_test_weight=x_test['Weight']\n",
    "#     x_train=x_train.drop(['Weight'], axis=1)\n",
    "#     x_test=x_test.drop(['Weight'], axis=1)\n",
    "#     return df,x_train,x_train_weight,x_test,x_test_weight,y_train,y_test\n",
    "    return df"
   ]
  },
  {
   "cell_type": "code",
   "execution_count": 3,
   "metadata": {},
   "outputs": [],
   "source": [
    "def scaling(type_,df):\n",
    "    if type_=='minmax':\n",
    "        scaler = MinMaxScaler()\n",
    "    elif type_=='standard':\n",
    "        scaler = StandardScaler()\n",
    "    elif type_=='maxabs':\n",
    "        scaler= MaxAbsScaler()\n",
    "    elif type_=='robust':\n",
    "        scaler= RobustScaler()\n",
    "    elif type_=='QuantileTransformer':\n",
    "        scaler=QuantileTransformer()\n",
    "    elif type_=='Normalizer':\n",
    "        scaler=Normalizer()    \n",
    "#     df[['x0','x1','x2','x3A','x3B','x3C','x3D','x3E','x4','x5','x6']]=scaling('standard',df[['x0','x1','x2','x3A','x3B','x3C','x3D','x3E','x4','x5','x6']])\n",
    "    df=scaler.fit_transform(df)\n",
    "    return df"
   ]
  },
  {
   "cell_type": "code",
   "execution_count": 5,
   "metadata": {},
   "outputs": [],
   "source": [
    "df, X_train,x_train_weight,X_test,x_test_weight,y_train,y_test=getxy()\n",
    "x_train=scaling('minmax',X_train)\n",
    "x_test=scaling('minmax',X_test)"
   ]
  },
  {
   "cell_type": "code",
   "execution_count": 40,
   "metadata": {},
   "outputs": [
    {
     "name": "stdout",
     "output_type": "stream",
     "text": [
      "*** Linear Regression ***\n",
      "RMSE for training data: 0.0001344566\n",
      "RMSE for test data: 0.0001382038\n",
      "R2 Score for training: 0.0446625832837\n",
      "R2 Score for test: 0.031456376233\n",
      "Model Score : 0.0446625832837\n",
      "\n",
      "*** Ridge Linear Regression ***\n",
      "RMSE for training data: 0.0001375901\n",
      "RMSE for test data: 0.0001403041\n",
      "R2 Score for training: 0.0378470413338\n",
      "R2 Score for test: 0.0551600862689\n",
      "Model Score : 0.0378470413338\n",
      "\n",
      "*** Lasso Regression ***\n",
      "RMSE for training data: 0.0001522074\n",
      "RMSE for test data: 0.0001529027\n",
      "R2 Score for training: 0.0\n",
      "R2 Score for test: -7.45191013318e-06\n",
      "Model Score : 0.0\n",
      "\n",
      "*** KNeighborsRegressor ***\n",
      "RMSE for training data: 0.0001052868\n",
      "RMSE for test data: 0.0001336143\n",
      "R2 Score for training: 0.317844250004\n",
      "R2 Score for test: -0.0281755442727\n",
      "Model Score : 0.317844250004\n",
      "\n",
      "*** Support Vector Regression ***\n",
      "RMSE for training data: 0.0022587315\n",
      "RMSE for test data: 0.0022588817\n",
      "R2 Score for training: -4.80238311513\n",
      "R2 Score for test: -4.99624264647\n",
      "Model Score : -4.80238311513\n",
      "\n",
      "*** Decision Tree Regression ***\n",
      "RMSE for training data: 9.63031e-05\n",
      "RMSE for test data: 0.0001502059\n",
      "R2 Score for training: 0.925038227745\n",
      "R2 Score for test: -1.5067883369\n",
      "Model Score : 0.925038227745\n",
      "\n",
      "*** Random Forest Regression ***\n",
      "RMSE for training data: 0.0001018931\n",
      "RMSE for test data: 0.0001269054\n",
      "R2 Score for training: 0.787838710256\n",
      "R2 Score for test: -0.0662594368521\n",
      "Model Score : 0.787838710256\n",
      "\n"
     ]
    }
   ],
   "source": [
    "mylist=[LinearRegression(),Ridge(),Lasso(),KNeighborsRegressor(),SVR(),DecisionTreeRegressor(),RandomForestRegressor()]\n",
    "nameList=[\"Linear Regression\",\"Ridge Linear Regression\",\"Lasso Regression\",\"KNeighborsRegressor\",\"Support Vector Regression\",\"Decision Tree Regression\",\"Random Forest Regression\"]\n",
    "count=0\n",
    "for item in mylist:\n",
    "    eqn=item\n",
    "    eqn.fit(x_train,y_train)\n",
    "    y_pred_train = eqn.predict(x_train)\n",
    "    y_pred_test = eqn.predict(x_test)\n",
    "    rmse_train = round(mean_absolute_error(y_train,y_pred_train,sample_weight=x_train_weight),10)\n",
    "    rmse_test = round(mean_absolute_error(y_test,y_pred_test,sample_weight=x_test_weight),10)\n",
    "\n",
    "    print(\"***\",nameList[count],\"***\")\n",
    "    print(\"RMSE for training data:\", rmse_train)\n",
    "    print(\"RMSE for test data:\", rmse_test)\n",
    "    print(\"R2 Score for training:\",r2_score(y_train, y_pred_train))\n",
    "    print(\"R2 Score for test:\",r2_score(y_test, y_pred_test))\n",
    "    print(\"Model Score :\",eqn.score(x_train,y_train))\n",
    "    count+=1\n",
    "    print()"
   ]
  },
  {
   "cell_type": "markdown",
   "metadata": {},
   "source": [
    "### Cross Validation Model"
   ]
  },
  {
   "cell_type": "code",
   "execution_count": null,
   "metadata": {},
   "outputs": [],
   "source": [
    "df,x_train,x_train_weight,x_test,x_test_weight,y_train,y_test=getxy()\n",
    "x_train=scaling('minmax',x_train)\n",
    "x_test=scaling('minmax',x_test)"
   ]
  },
  {
   "cell_type": "code",
   "execution_count": 46,
   "metadata": {},
   "outputs": [
    {
     "name": "stdout",
     "output_type": "stream",
     "text": [
      "RMSE Train : -0.000246577947702\n",
      "RMSE Test : -0.000398567224802\n",
      "R2 Train: 0.785524022607\n",
      "R2 Test: 0.0954744606073\n"
     ]
    }
   ],
   "source": [
    "clf = RandomForestRegressor()\n",
    "scores = cross_validate(clf, x_train, y_train, cv=10,scoring=('r2','neg_mean_absolute_error','neg_explained_variance_score'))\n",
    "print(\"MAE Train :\",scores['train_neg_explained_variance_score'].mean())\n",
    "print(\"MAE Test :\",scores['test_neg_explained_variance_score'].mean())\n",
    "print(\"R2 Train:\",scores['train_r2'].mean())\n",
    "print(\"R2 Test:\",scores['test_r2'].mean())"
   ]
  },
  {
   "cell_type": "markdown",
   "metadata": {},
   "source": [
    "### Checking Various Scales and identify the best scaling for this problem"
   ]
  },
  {
   "cell_type": "code",
   "execution_count": 8,
   "metadata": {},
   "outputs": [
    {
     "name": "stdout",
     "output_type": "stream",
     "text": [
      "*** minmax ***\n",
      "MAE Train : -0.000416616658723\n",
      "MAE Test : -0.000418689667231\n",
      "R2 Train: 0.0483965106633\n",
      "R2 Test: -1.24426989209\n",
      "\n",
      "*** standard ***\n",
      "MAE Train : -0.000416616658723\n",
      "MAE Test : -0.000418689667231\n",
      "R2 Train: 0.0483965106633\n",
      "R2 Test: -1.24426989209\n",
      "\n",
      "*** maxabs ***\n",
      "MAE Train : -0.000416616658723\n",
      "MAE Test : -0.000418689667231\n",
      "R2 Train: 0.0483965106633\n",
      "R2 Test: -1.24426989209\n",
      "\n",
      "*** robust ***\n",
      "MAE Train : -0.000416616658723\n",
      "MAE Test : -0.000418689667231\n",
      "R2 Train: 0.0483965106633\n",
      "R2 Test: -1.24426989209\n",
      "\n",
      "*** QuantileTransformer ***\n",
      "MAE Train : -0.000432378159426\n",
      "MAE Test : -0.000432404727004\n",
      "R2 Train: 0.0563959546827\n",
      "R2 Test: 0.0570229344205\n",
      "\n",
      "*** Normalizer ***\n",
      "MAE Train : -0.000422517089167\n",
      "MAE Test : -0.000422756207492\n",
      "R2 Train: 0.0501181049947\n",
      "R2 Test: 0.0424907401237\n",
      "\n"
     ]
    }
   ],
   "source": [
    "scaleList='minmax standard maxabs robust QuantileTransformer Normalizer'.split()\n",
    "for item in scaleList:\n",
    "    x_train=scaling(item,X_train)\n",
    "    x_test=scaling(item,X_test)\n",
    "    \n",
    "    model = LinearRegression()\n",
    "    scores = cross_validate(model, x_train, y_train, cv=10,scoring=('r2','neg_mean_absolute_error'),n_jobs=-1)\n",
    "    \n",
    "    print(\"***\",item,\"***\")\n",
    "    print(\"MAE Train :\",scores['train_neg_mean_absolute_error'].mean())\n",
    "    print(\"MAE Test :\",scores['test_neg_mean_absolute_error'].mean())\n",
    "    print(\"R2 Train:\",scores['train_r2'].mean())\n",
    "    print(\"R2 Test:\",scores['test_r2'].mean())\n",
    "    print()\n",
    "\n",
    "    "
   ]
  },
  {
   "cell_type": "markdown",
   "metadata": {},
   "source": [
    "##### Min Max, Maxabs, Standard  and robust all came up with almost similar RMSE. Hence moving forward i'll be using standard Scaler."
   ]
  },
  {
   "cell_type": "code",
   "execution_count": 78,
   "metadata": {},
   "outputs": [
    {
     "name": "stderr",
     "output_type": "stream",
     "text": [
      "/home/jithin/anaconda3/lib/python3.6/site-packages/ipykernel_launcher.py:3: FutureWarning: reshape is deprecated and will raise in a subsequent release. Please use .values.reshape(...) instead\n",
      "  This is separate from the ipykernel package so we can avoid doing imports until\n"
     ]
    }
   ],
   "source": [
    "df,x_train,x_train_weight,x_test,x_test_weight,y_train,y_test=getxy()\n",
    "X_train=scaling('standard',x_train)\n",
    "y_train=y_train.reshape(-1,1)\n",
    "y_train=scaling('standard',y_train)"
   ]
  },
  {
   "cell_type": "code",
   "execution_count": 66,
   "metadata": {},
   "outputs": [
    {
     "data": {
      "text/plain": [
       "['Market',\n",
       " 'Day',\n",
       " 'Stock',\n",
       " 'x0',\n",
       " 'x1',\n",
       " 'x2',\n",
       " 'x3A',\n",
       " 'x3B',\n",
       " 'x3C',\n",
       " 'x3D',\n",
       " 'x3E',\n",
       " 'x4',\n",
       " 'x5',\n",
       " 'x6']"
      ]
     },
     "execution_count": 66,
     "metadata": {},
     "output_type": "execute_result"
    }
   ],
   "source": [
    "featureName=list(df.drop(['y','Weight'],axis=1).columns)\n",
    "featureName\n",
    "# featureList=[0,1,2,3,4,5,6,7,8,9,10,12,13]\n",
    "# for i in range(len(featureList)):\n",
    "#     x_train=np.delete(X_train,i,1)\n",
    "    \n",
    "#     model = LinearRegression()\n",
    "#     scores = cross_validate(model, x_train, y_train, cv=10,scoring=('r2','neg_mean_absolute_error'),n_jobs=-1)\n",
    "#     aveError=np.mean([scores['train_neg_mean_absolute_error'].mean(),scores['test_neg_mean_absolute_error'].mean()])\n",
    "#     print(\"Error :\",aveError)\n",
    "\n"
   ]
  },
  {
   "cell_type": "code",
   "execution_count": 52,
   "metadata": {},
   "outputs": [
    {
     "data": {
      "text/plain": [
       "3.0"
      ]
     },
     "execution_count": 52,
     "metadata": {},
     "output_type": "execute_result"
    }
   ],
   "source": [
    "np.mean([[1,2,3],[3,4,5]])"
   ]
  },
  {
   "cell_type": "code",
   "execution_count": 2,
   "metadata": {},
   "outputs": [],
   "source": [
    "def getdf():\n",
    "    df=pd.read_csv('dataset/new_train.csv',index_col='Index')\n",
    "    df=df.dropna()\n",
    "    return df"
   ]
  },
  {
   "cell_type": "code",
   "execution_count": 3,
   "metadata": {},
   "outputs": [],
   "source": [
    "def encode(df):\n",
    "    df[\"Market\"] = df[\"Market\"].astype('category')\n",
    "    df[\"Day\"] = df[\"Day\"].astype('category')\n",
    "    df[\"Stock\"] = df[\"Stock\"].astype('category')\n",
    "    return df"
   ]
  },
  {
   "cell_type": "code",
   "execution_count": 4,
   "metadata": {},
   "outputs": [],
   "source": [
    "def scale(type_,df):\n",
    "    if type_=='minmax':\n",
    "        scaler = MinMaxScaler()\n",
    "    elif type_=='standard':\n",
    "        scaler = StandardScaler()\n",
    "    elif type_=='maxabs':\n",
    "        scaler= MaxAbsScaler()\n",
    "    elif type_=='robust':\n",
    "        scaler= RobustScaler()\n",
    "    elif type_=='QuantileTransformer':\n",
    "        scaler=QuantileTransformer()\n",
    "    elif type_=='Normalizer':\n",
    "        scaler=Normalizer()    \n",
    "#     df[['x0','x1','x2','x3A','x3B','x3C','x3D','x3E','x4','x5','x6']]=scaling('standard',df[['x0','x1','x2','x3A','x3B','x3C','x3D','x3E','x4','x5','x6']])\n",
    "    \n",
    "    \n",
    "    df[['x0','x1','x2','x3A','x3B','x3C','x3D','x3E','x4','x5','x6']]=scaler.fit_transform(df[['x0','x1','x2','x3A','x3B','x3C','x3D','x3E','x4','x5','x6']])\n",
    "    return df"
   ]
  },
  {
   "cell_type": "code",
   "execution_count": 5,
   "metadata": {},
   "outputs": [],
   "source": [
    "def errorValue(y_pred,y,wt):\n",
    "    return (sum(wt*((y_pred-y)**2)))"
   ]
  },
  {
   "cell_type": "code",
   "execution_count": 6,
   "metadata": {},
   "outputs": [],
   "source": [
    "def sub_lists(my_list):\n",
    "    subs = [[]]\n",
    "    for i in range(len(my_list)):\n",
    "        n = i+1\n",
    "        while n <= len(my_list):\n",
    "            sub = my_list[i:n]\n",
    "            subs.append(sub)\n",
    "            n += 1\n",
    "    return subs"
   ]
  },
  {
   "cell_type": "code",
   "execution_count": null,
   "metadata": {},
   "outputs": [],
   "source": []
  },
  {
   "cell_type": "code",
   "execution_count": 9,
   "metadata": {},
   "outputs": [],
   "source": [
    "df=getdf()\n",
    "df=encode(df)\n",
    "df=scale('standard',df)\n",
    "wt=df['Weight']\n",
    "x=df.drop(['Weight','y'],axis=1)    \n",
    "y=df['y']    "
   ]
  },
  {
   "cell_type": "code",
   "execution_count": 169,
   "metadata": {},
   "outputs": [
    {
     "name": "stdout",
     "output_type": "stream",
     "text": [
      "Error Calculated : 0.7460346979466801\n"
     ]
    }
   ],
   "source": [
    "# features=['x0','x1','x2','x3A','x3B','x3C','x3D','x3E','x4','x5','x6']\n",
    "X=x[['x4','x0']]\n",
    "model = LinearRegression()\n",
    "parameters = {'fit_intercept':[True,False], 'normalize':[True,False], 'copy_X':[True, False]}\n",
    "grid = GridSearchCV(model,parameters, cv=4)\n",
    "grid.fit(X, y)\n",
    "y_pred=grid.predict(X)\n",
    "print(\"Error Calculated :\",errorValue(y_pred,y,wt))\n",
    "\n",
    "\n",
    "\n",
    "\n",
    "# # scores = cross_validate(model, x, y, cv=10,scoring=('neg_mean_absolute_error'))\n",
    "# print(np.mean([scores['test_score'].mean(),scores['train_score'].mean()]))"
   ]
  },
  {
   "cell_type": "code",
   "execution_count": 194,
   "metadata": {},
   "outputs": [
    {
     "name": "stdout",
     "output_type": "stream",
     "text": [
      "['Market', 'Day', 'Stock', 'x0', 'x1', 'x2', 'x3A', 'x3B', 'x3C', 'x3D', 'x3E', 'x4', 'x5', 'x6']\n"
     ]
    }
   ],
   "source": [
    "features=['x0','x1','x2','x3A','x3B','x3C','x3D','x3E','x4','x5','x6']\n",
    "featureList=sub_lists(features)\n",
    "# featureList[50]\n",
    "mainList=['Market','Day','Stock']\n",
    "mainList.extend(featureList[11])\n",
    "print(mainList)"
   ]
  },
  {
   "cell_type": "code",
   "execution_count": 201,
   "metadata": {},
   "outputs": [
    {
     "name": "stdout",
     "output_type": "stream",
     "text": [
      "[] : 0.80655\n",
      "['x0'] : 0.80653\n",
      "['x0', 'x1'] : 0.80652\n",
      "['x0', 'x1', 'x2'] : 0.80654\n",
      "['x0', 'x1', 'x2', 'x3A'] : 0.80764\n",
      "['x0', 'x1', 'x2', 'x3A', 'x3B'] : 0.80904\n",
      "['x0', 'x1', 'x2', 'x3A', 'x3B', 'x3C'] : 0.80621\n",
      "['x0', 'x1', 'x2', 'x3A', 'x3B', 'x3C', 'x3D'] : 0.80364\n",
      "['x0', 'x1', 'x2', 'x3A', 'x3B', 'x3C', 'x3D', 'x3E'] : 0.80033\n",
      "['x0', 'x1', 'x2', 'x3A', 'x3B', 'x3C', 'x3D', 'x3E', 'x4'] : 0.72906\n",
      "['x0', 'x1', 'x2', 'x3A', 'x3B', 'x3C', 'x3D', 'x3E', 'x4', 'x5'] : 0.72888\n",
      "['x0', 'x1', 'x2', 'x3A', 'x3B', 'x3C', 'x3D', 'x3E', 'x4', 'x5', 'x6'] : 0.72945\n",
      "['x1'] : 0.80654\n",
      "['x1', 'x2'] : 0.80656\n",
      "['x1', 'x2', 'x3A'] : 0.80766\n",
      "['x1', 'x2', 'x3A', 'x3B'] : 0.80906\n",
      "['x1', 'x2', 'x3A', 'x3B', 'x3C'] : 0.80623\n",
      "['x1', 'x2', 'x3A', 'x3B', 'x3C', 'x3D'] : 0.80365\n",
      "['x1', 'x2', 'x3A', 'x3B', 'x3C', 'x3D', 'x3E'] : 0.80034\n",
      "['x1', 'x2', 'x3A', 'x3B', 'x3C', 'x3D', 'x3E', 'x4'] : 0.72909\n",
      "['x1', 'x2', 'x3A', 'x3B', 'x3C', 'x3D', 'x3E', 'x4', 'x5'] : 0.72891\n",
      "['x1', 'x2', 'x3A', 'x3B', 'x3C', 'x3D', 'x3E', 'x4', 'x5', 'x6'] : 0.72947\n",
      "['x2'] : 0.80657\n",
      "['x2', 'x3A'] : 0.80767\n",
      "['x2', 'x3A', 'x3B'] : 0.80907\n",
      "['x2', 'x3A', 'x3B', 'x3C'] : 0.80623\n",
      "['x2', 'x3A', 'x3B', 'x3C', 'x3D'] : 0.80365\n",
      "['x2', 'x3A', 'x3B', 'x3C', 'x3D', 'x3E'] : 0.80034\n",
      "['x2', 'x3A', 'x3B', 'x3C', 'x3D', 'x3E', 'x4'] : 0.72916\n",
      "['x2', 'x3A', 'x3B', 'x3C', 'x3D', 'x3E', 'x4', 'x5'] : 0.72898\n",
      "['x2', 'x3A', 'x3B', 'x3C', 'x3D', 'x3E', 'x4', 'x5', 'x6'] : 0.72957\n",
      "['x3A'] : 0.80764\n",
      "['x3A', 'x3B'] : 0.80905\n",
      "['x3A', 'x3B', 'x3C'] : 0.80621\n",
      "['x3A', 'x3B', 'x3C', 'x3D'] : 0.80363\n",
      "['x3A', 'x3B', 'x3C', 'x3D', 'x3E'] : 0.80033\n",
      "['x3A', 'x3B', 'x3C', 'x3D', 'x3E', 'x4'] : 0.73181\n",
      "['x3A', 'x3B', 'x3C', 'x3D', 'x3E', 'x4', 'x5'] : 0.73163\n",
      "['x3A', 'x3B', 'x3C', 'x3D', 'x3E', 'x4', 'x5', 'x6'] : 0.73224\n",
      "['x3B'] : 0.8089\n",
      "['x3B', 'x3C'] : 0.80605\n",
      "['x3B', 'x3C', 'x3D'] : 0.80359\n",
      "['x3B', 'x3C', 'x3D', 'x3E'] : 0.80031\n",
      "['x3B', 'x3C', 'x3D', 'x3E', 'x4'] : 0.73305\n",
      "['x3B', 'x3C', 'x3D', 'x3E', 'x4', 'x5'] : 0.73321\n",
      "['x3B', 'x3C', 'x3D', 'x3E', 'x4', 'x5', 'x6'] : 0.73381\n",
      "['x3C'] : 0.80818\n",
      "['x3C', 'x3D'] : 0.80343\n",
      "['x3C', 'x3D', 'x3E'] : 0.80015\n",
      "['x3C', 'x3D', 'x3E', 'x4'] : 0.733\n",
      "['x3C', 'x3D', 'x3E', 'x4', 'x5'] : 0.73322\n",
      "['x3C', 'x3D', 'x3E', 'x4', 'x5', 'x6'] : 0.73382\n",
      "['x3D'] : 0.80662\n",
      "['x3D', 'x3E'] : 0.80081\n",
      "['x3D', 'x3E', 'x4'] : 0.73398\n",
      "['x3D', 'x3E', 'x4', 'x5'] : 0.73353\n",
      "['x3D', 'x3E', 'x4', 'x5', 'x6'] : 0.73409\n",
      "['x3E'] : 0.80525\n",
      "['x3E', 'x4'] : 0.73356\n",
      "['x3E', 'x4', 'x5'] : 0.73347\n",
      "['x3E', 'x4', 'x5', 'x6'] : 0.73402\n",
      "['x4'] : 0.7421\n",
      "['x4', 'x5'] : 0.74122\n",
      "['x4', 'x5', 'x6'] : 0.7416\n",
      "['x5'] : 0.8065\n",
      "['x5', 'x6'] : 0.8116\n",
      "['x6'] : 0.81161\n"
     ]
    }
   ],
   "source": [
    "result=[]\n",
    "for i in range(len(featureList)):\n",
    "    mainList=['Market','Day','Stock']\n",
    "    mainList.extend(featureList[i])\n",
    "    X=x[mainList]\n",
    "    model = LinearRegression()\n",
    "    parameters = {}\n",
    "    grid = GridSearchCV(model,parameters, cv=4)\n",
    "    grid.fit(X, y)\n",
    "    y_pred=grid.predict(X)\n",
    "    print(featureList[i],\":\",round(errorValue(y_pred,y,wt),5))\n",
    "    result.append([mainList,errorValue(y_pred,y,wt)])\n",
    "        "
   ]
  },
  {
   "cell_type": "code",
   "execution_count": 215,
   "metadata": {},
   "outputs": [
    {
     "name": "stdout",
     "output_type": "stream",
     "text": [
      "                                         Feature Name     Score\n",
      "10  [Market, Day, Stock, x0, x1, x2, x3A, x3B, x3C...  0.728882\n"
     ]
    }
   ],
   "source": [
    "result_df=pd.DataFrame(result,columns=['Feature Name','Score'])\n",
    "result_df=result_df.sort_values(by=['Score'])\n",
    "print(result_df.head(1))"
   ]
  },
  {
   "cell_type": "code",
   "execution_count": 218,
   "metadata": {},
   "outputs": [
    {
     "name": "stdout",
     "output_type": "stream",
     "text": [
      "Fitting 4 folds for each of 1 candidates, totalling 4 fits\n",
      "[CV]  ................................................................\n",
      "[CV]  ................................................................\n",
      "[CV]  ................................................................\n",
      "[CV]  ................................................................\n",
      "[CV] ................................................. , total= 1.4min\n",
      "[CV] ................................................. , total= 1.4min\n",
      "[CV] ................................................. , total= 1.4min\n",
      "[CV] ................................................. , total= 1.5min\n"
     ]
    },
    {
     "name": "stderr",
     "output_type": "stream",
     "text": [
      "[Parallel(n_jobs=-1)]: Done   4 out of   4 | elapsed:  1.5min finished\n"
     ]
    },
    {
     "name": "stdout",
     "output_type": "stream",
     "text": [
      "0.23982239196780128 5\n"
     ]
    }
   ],
   "source": [
    "X=x\n",
    "parameters = {}\n",
    "model = RandomForestRegressor()\n",
    "grid = GridSearchCV(model,parameters, cv=4,verbose = 2,n_jobs=-1)\n",
    "grid.fit(X, y)\n",
    "y_pred=grid.predict(X)\n",
    "print(errorValue(y_pred,y,wt),5)"
   ]
  },
  {
   "cell_type": "code",
   "execution_count": 14,
   "metadata": {},
   "outputs": [
    {
     "data": {
      "text/html": [
       "<div>\n",
       "<style scoped>\n",
       "    .dataframe tbody tr th:only-of-type {\n",
       "        vertical-align: middle;\n",
       "    }\n",
       "\n",
       "    .dataframe tbody tr th {\n",
       "        vertical-align: top;\n",
       "    }\n",
       "\n",
       "    .dataframe thead th {\n",
       "        text-align: right;\n",
       "    }\n",
       "</style>\n",
       "<table border=\"1\" class=\"dataframe\">\n",
       "  <thead>\n",
       "    <tr style=\"text-align: right;\">\n",
       "      <th></th>\n",
       "      <th>Day</th>\n",
       "      <th>x0</th>\n",
       "      <th>x1</th>\n",
       "      <th>x2</th>\n",
       "      <th>x3A</th>\n",
       "      <th>x3B</th>\n",
       "      <th>x3C</th>\n",
       "      <th>x3D</th>\n",
       "      <th>x3E</th>\n",
       "      <th>x4</th>\n",
       "      <th>...</th>\n",
       "      <th>Stock_3013</th>\n",
       "      <th>Stock_3014</th>\n",
       "      <th>Stock_3015</th>\n",
       "      <th>Stock_3016</th>\n",
       "      <th>Stock_3017</th>\n",
       "      <th>Stock_3018</th>\n",
       "      <th>Stock_3019</th>\n",
       "      <th>Stock_3020</th>\n",
       "      <th>Stock_3021</th>\n",
       "      <th>Stock_3022</th>\n",
       "    </tr>\n",
       "    <tr>\n",
       "      <th>Index</th>\n",
       "      <th></th>\n",
       "      <th></th>\n",
       "      <th></th>\n",
       "      <th></th>\n",
       "      <th></th>\n",
       "      <th></th>\n",
       "      <th></th>\n",
       "      <th></th>\n",
       "      <th></th>\n",
       "      <th></th>\n",
       "      <th></th>\n",
       "      <th></th>\n",
       "      <th></th>\n",
       "      <th></th>\n",
       "      <th></th>\n",
       "      <th></th>\n",
       "      <th></th>\n",
       "      <th></th>\n",
       "      <th></th>\n",
       "      <th></th>\n",
       "      <th></th>\n",
       "    </tr>\n",
       "  </thead>\n",
       "  <tbody>\n",
       "    <tr>\n",
       "      <th>495730</th>\n",
       "      <td>539</td>\n",
       "      <td>-0.004497</td>\n",
       "      <td>-0.134356</td>\n",
       "      <td>-0.233919</td>\n",
       "      <td>-0.056778</td>\n",
       "      <td>-0.080729</td>\n",
       "      <td>-0.072594</td>\n",
       "      <td>-0.055064</td>\n",
       "      <td>-0.048578</td>\n",
       "      <td>-0.400547</td>\n",
       "      <td>...</td>\n",
       "      <td>0</td>\n",
       "      <td>0</td>\n",
       "      <td>0</td>\n",
       "      <td>0</td>\n",
       "      <td>0</td>\n",
       "      <td>0</td>\n",
       "      <td>0</td>\n",
       "      <td>0</td>\n",
       "      <td>0</td>\n",
       "      <td>0</td>\n",
       "    </tr>\n",
       "    <tr>\n",
       "      <th>325010</th>\n",
       "      <td>223</td>\n",
       "      <td>-0.004498</td>\n",
       "      <td>-0.216543</td>\n",
       "      <td>-0.351575</td>\n",
       "      <td>-0.020525</td>\n",
       "      <td>-0.035740</td>\n",
       "      <td>-0.020605</td>\n",
       "      <td>-0.012077</td>\n",
       "      <td>0.026079</td>\n",
       "      <td>0.848011</td>\n",
       "      <td>...</td>\n",
       "      <td>0</td>\n",
       "      <td>0</td>\n",
       "      <td>0</td>\n",
       "      <td>0</td>\n",
       "      <td>0</td>\n",
       "      <td>0</td>\n",
       "      <td>0</td>\n",
       "      <td>0</td>\n",
       "      <td>0</td>\n",
       "      <td>0</td>\n",
       "    </tr>\n",
       "    <tr>\n",
       "      <th>11980</th>\n",
       "      <td>86</td>\n",
       "      <td>-0.004497</td>\n",
       "      <td>-0.117897</td>\n",
       "      <td>-0.325717</td>\n",
       "      <td>-0.041993</td>\n",
       "      <td>-0.054836</td>\n",
       "      <td>-0.034117</td>\n",
       "      <td>-0.020956</td>\n",
       "      <td>0.009538</td>\n",
       "      <td>0.331451</td>\n",
       "      <td>...</td>\n",
       "      <td>0</td>\n",
       "      <td>0</td>\n",
       "      <td>0</td>\n",
       "      <td>0</td>\n",
       "      <td>0</td>\n",
       "      <td>0</td>\n",
       "      <td>0</td>\n",
       "      <td>0</td>\n",
       "      <td>0</td>\n",
       "      <td>0</td>\n",
       "    </tr>\n",
       "    <tr>\n",
       "      <th>550150</th>\n",
       "      <td>667</td>\n",
       "      <td>-0.004493</td>\n",
       "      <td>-0.137405</td>\n",
       "      <td>-0.242465</td>\n",
       "      <td>-0.064721</td>\n",
       "      <td>-0.092181</td>\n",
       "      <td>-0.080058</td>\n",
       "      <td>-0.062987</td>\n",
       "      <td>-0.058309</td>\n",
       "      <td>-0.662396</td>\n",
       "      <td>...</td>\n",
       "      <td>0</td>\n",
       "      <td>0</td>\n",
       "      <td>0</td>\n",
       "      <td>0</td>\n",
       "      <td>0</td>\n",
       "      <td>0</td>\n",
       "      <td>0</td>\n",
       "      <td>0</td>\n",
       "      <td>0</td>\n",
       "      <td>0</td>\n",
       "    </tr>\n",
       "    <tr>\n",
       "      <th>234071</th>\n",
       "      <td>64</td>\n",
       "      <td>-0.004496</td>\n",
       "      <td>1.614595</td>\n",
       "      <td>4.074102</td>\n",
       "      <td>-0.063660</td>\n",
       "      <td>-0.090432</td>\n",
       "      <td>-0.078764</td>\n",
       "      <td>-0.062149</td>\n",
       "      <td>-0.057613</td>\n",
       "      <td>-0.427348</td>\n",
       "      <td>...</td>\n",
       "      <td>0</td>\n",
       "      <td>0</td>\n",
       "      <td>0</td>\n",
       "      <td>0</td>\n",
       "      <td>0</td>\n",
       "      <td>0</td>\n",
       "      <td>0</td>\n",
       "      <td>0</td>\n",
       "      <td>0</td>\n",
       "      <td>0</td>\n",
       "    </tr>\n",
       "  </tbody>\n",
       "</table>\n",
       "<p>5 rows × 3038 columns</p>\n",
       "</div>"
      ],
      "text/plain": [
       "        Day        x0        x1        x2       x3A       x3B       x3C  \\\n",
       "Index                                                                     \n",
       "495730  539 -0.004497 -0.134356 -0.233919 -0.056778 -0.080729 -0.072594   \n",
       "325010  223 -0.004498 -0.216543 -0.351575 -0.020525 -0.035740 -0.020605   \n",
       "11980    86 -0.004497 -0.117897 -0.325717 -0.041993 -0.054836 -0.034117   \n",
       "550150  667 -0.004493 -0.137405 -0.242465 -0.064721 -0.092181 -0.080058   \n",
       "234071   64 -0.004496  1.614595  4.074102 -0.063660 -0.090432 -0.078764   \n",
       "\n",
       "             x3D       x3E        x4     ...      Stock_3013  Stock_3014  \\\n",
       "Index                                    ...                               \n",
       "495730 -0.055064 -0.048578 -0.400547     ...               0           0   \n",
       "325010 -0.012077  0.026079  0.848011     ...               0           0   \n",
       "11980  -0.020956  0.009538  0.331451     ...               0           0   \n",
       "550150 -0.062987 -0.058309 -0.662396     ...               0           0   \n",
       "234071 -0.062149 -0.057613 -0.427348     ...               0           0   \n",
       "\n",
       "        Stock_3015  Stock_3016  Stock_3017  Stock_3018  Stock_3019  \\\n",
       "Index                                                                \n",
       "495730           0           0           0           0           0   \n",
       "325010           0           0           0           0           0   \n",
       "11980            0           0           0           0           0   \n",
       "550150           0           0           0           0           0   \n",
       "234071           0           0           0           0           0   \n",
       "\n",
       "        Stock_3020  Stock_3021  Stock_3022  \n",
       "Index                                       \n",
       "495730           0           0           0  \n",
       "325010           0           0           0  \n",
       "11980            0           0           0  \n",
       "550150           0           0           0  \n",
       "234071           0           0           0  \n",
       "\n",
       "[5 rows x 3038 columns]"
      ]
     },
     "execution_count": 14,
     "metadata": {},
     "output_type": "execute_result"
    }
   ],
   "source": [
    "X=x\n",
    "X=pd.get_dummies(x, prefix=['Market','Stock'], columns=['Market','Stock'])\n",
    "# parameters = {}\n",
    "# model = XGBRegressor()\n",
    "# grid = GridSearchCV(model,parameters, cv=4,verbose = 2,n_jobs=-1)\n",
    "# grid.fit(X, y)\n",
    "# y_pred=grid.predict(X)\n",
    "# print(errorValue(y_pred,y,wt),5)\n",
    "X.head()"
   ]
  },
  {
   "cell_type": "code",
   "execution_count": 16,
   "metadata": {},
   "outputs": [
    {
     "ename": "MemoryError",
     "evalue": "",
     "output_type": "error",
     "traceback": [
      "\u001b[0;31m---------------------------------------------------------------------------\u001b[0m",
      "\u001b[0;31mMemoryError\u001b[0m                               Traceback (most recent call last)",
      "\u001b[0;32m<ipython-input-16-ae8a5e32c5b3>\u001b[0m in \u001b[0;36m<module>\u001b[0;34m()\u001b[0m\n\u001b[1;32m      1\u001b[0m \u001b[0mmodel\u001b[0m \u001b[0;34m=\u001b[0m \u001b[0mLinearRegression\u001b[0m\u001b[0;34m(\u001b[0m\u001b[0;34m)\u001b[0m\u001b[0;34m\u001b[0m\u001b[0m\n\u001b[0;32m----> 2\u001b[0;31m \u001b[0mmodel\u001b[0m\u001b[0;34m.\u001b[0m\u001b[0mfit\u001b[0m\u001b[0;34m(\u001b[0m\u001b[0mX\u001b[0m\u001b[0;34m,\u001b[0m\u001b[0my\u001b[0m\u001b[0;34m)\u001b[0m\u001b[0;34m\u001b[0m\u001b[0m\n\u001b[0m\u001b[1;32m      3\u001b[0m \u001b[0my_pred\u001b[0m\u001b[0;34m=\u001b[0m\u001b[0mgrid\u001b[0m\u001b[0;34m.\u001b[0m\u001b[0mpredict\u001b[0m\u001b[0;34m(\u001b[0m\u001b[0mX\u001b[0m\u001b[0;34m)\u001b[0m\u001b[0;34m\u001b[0m\u001b[0m\n\u001b[1;32m      4\u001b[0m \u001b[0mprint\u001b[0m\u001b[0;34m(\u001b[0m\u001b[0merrorValue\u001b[0m\u001b[0;34m(\u001b[0m\u001b[0my_pred\u001b[0m\u001b[0;34m,\u001b[0m\u001b[0my\u001b[0m\u001b[0;34m,\u001b[0m\u001b[0mwt\u001b[0m\u001b[0;34m)\u001b[0m\u001b[0;34m)\u001b[0m\u001b[0;34m\u001b[0m\u001b[0m\n",
      "\u001b[0;32m~/anaconda3/lib/python3.6/site-packages/sklearn/linear_model/base.py\u001b[0m in \u001b[0;36mfit\u001b[0;34m(self, X, y, sample_weight)\u001b[0m\n\u001b[1;32m    480\u001b[0m         \u001b[0mn_jobs_\u001b[0m \u001b[0;34m=\u001b[0m \u001b[0mself\u001b[0m\u001b[0;34m.\u001b[0m\u001b[0mn_jobs\u001b[0m\u001b[0;34m\u001b[0m\u001b[0m\n\u001b[1;32m    481\u001b[0m         X, y = check_X_y(X, y, accept_sparse=['csr', 'csc', 'coo'],\n\u001b[0;32m--> 482\u001b[0;31m                          y_numeric=True, multi_output=True)\n\u001b[0m\u001b[1;32m    483\u001b[0m \u001b[0;34m\u001b[0m\u001b[0m\n\u001b[1;32m    484\u001b[0m         \u001b[0;32mif\u001b[0m \u001b[0msample_weight\u001b[0m \u001b[0;32mis\u001b[0m \u001b[0;32mnot\u001b[0m \u001b[0;32mNone\u001b[0m \u001b[0;32mand\u001b[0m \u001b[0mnp\u001b[0m\u001b[0;34m.\u001b[0m\u001b[0matleast_1d\u001b[0m\u001b[0;34m(\u001b[0m\u001b[0msample_weight\u001b[0m\u001b[0;34m)\u001b[0m\u001b[0;34m.\u001b[0m\u001b[0mndim\u001b[0m \u001b[0;34m>\u001b[0m \u001b[0;36m1\u001b[0m\u001b[0;34m:\u001b[0m\u001b[0;34m\u001b[0m\u001b[0m\n",
      "\u001b[0;32m~/anaconda3/lib/python3.6/site-packages/sklearn/utils/validation.py\u001b[0m in \u001b[0;36mcheck_X_y\u001b[0;34m(X, y, accept_sparse, dtype, order, copy, force_all_finite, ensure_2d, allow_nd, multi_output, ensure_min_samples, ensure_min_features, y_numeric, warn_on_dtype, estimator)\u001b[0m\n\u001b[1;32m    540\u001b[0m     X = check_array(X, accept_sparse, dtype, order, copy, force_all_finite,\n\u001b[1;32m    541\u001b[0m                     \u001b[0mensure_2d\u001b[0m\u001b[0;34m,\u001b[0m \u001b[0mallow_nd\u001b[0m\u001b[0;34m,\u001b[0m \u001b[0mensure_min_samples\u001b[0m\u001b[0;34m,\u001b[0m\u001b[0;34m\u001b[0m\u001b[0m\n\u001b[0;32m--> 542\u001b[0;31m                     ensure_min_features, warn_on_dtype, estimator)\n\u001b[0m\u001b[1;32m    543\u001b[0m     \u001b[0;32mif\u001b[0m \u001b[0mmulti_output\u001b[0m\u001b[0;34m:\u001b[0m\u001b[0;34m\u001b[0m\u001b[0m\n\u001b[1;32m    544\u001b[0m         y = check_array(y, 'csr', force_all_finite=True, ensure_2d=False,\n",
      "\u001b[0;32m~/anaconda3/lib/python3.6/site-packages/sklearn/utils/validation.py\u001b[0m in \u001b[0;36mcheck_array\u001b[0;34m(array, accept_sparse, dtype, order, copy, force_all_finite, ensure_2d, allow_nd, ensure_min_samples, ensure_min_features, warn_on_dtype, estimator)\u001b[0m\n\u001b[1;32m    400\u001b[0m                                       force_all_finite)\n\u001b[1;32m    401\u001b[0m     \u001b[0;32melse\u001b[0m\u001b[0;34m:\u001b[0m\u001b[0;34m\u001b[0m\u001b[0m\n\u001b[0;32m--> 402\u001b[0;31m         \u001b[0marray\u001b[0m \u001b[0;34m=\u001b[0m \u001b[0mnp\u001b[0m\u001b[0;34m.\u001b[0m\u001b[0marray\u001b[0m\u001b[0;34m(\u001b[0m\u001b[0marray\u001b[0m\u001b[0;34m,\u001b[0m \u001b[0mdtype\u001b[0m\u001b[0;34m=\u001b[0m\u001b[0mdtype\u001b[0m\u001b[0;34m,\u001b[0m \u001b[0morder\u001b[0m\u001b[0;34m=\u001b[0m\u001b[0morder\u001b[0m\u001b[0;34m,\u001b[0m \u001b[0mcopy\u001b[0m\u001b[0;34m=\u001b[0m\u001b[0mcopy\u001b[0m\u001b[0;34m)\u001b[0m\u001b[0;34m\u001b[0m\u001b[0m\n\u001b[0m\u001b[1;32m    403\u001b[0m \u001b[0;34m\u001b[0m\u001b[0m\n\u001b[1;32m    404\u001b[0m         \u001b[0;32mif\u001b[0m \u001b[0mensure_2d\u001b[0m\u001b[0;34m:\u001b[0m\u001b[0;34m\u001b[0m\u001b[0m\n",
      "\u001b[0;32m~/anaconda3/lib/python3.6/site-packages/pandas/core/generic.py\u001b[0m in \u001b[0;36m__array__\u001b[0;34m(self, dtype)\u001b[0m\n\u001b[1;32m   1149\u001b[0m \u001b[0;34m\u001b[0m\u001b[0m\n\u001b[1;32m   1150\u001b[0m     \u001b[0;32mdef\u001b[0m \u001b[0m__array__\u001b[0m\u001b[0;34m(\u001b[0m\u001b[0mself\u001b[0m\u001b[0;34m,\u001b[0m \u001b[0mdtype\u001b[0m\u001b[0;34m=\u001b[0m\u001b[0;32mNone\u001b[0m\u001b[0;34m)\u001b[0m\u001b[0;34m:\u001b[0m\u001b[0;34m\u001b[0m\u001b[0m\n\u001b[0;32m-> 1151\u001b[0;31m         \u001b[0;32mreturn\u001b[0m \u001b[0m_values_from_object\u001b[0m\u001b[0;34m(\u001b[0m\u001b[0mself\u001b[0m\u001b[0;34m)\u001b[0m\u001b[0;34m\u001b[0m\u001b[0m\n\u001b[0m\u001b[1;32m   1152\u001b[0m \u001b[0;34m\u001b[0m\u001b[0m\n\u001b[1;32m   1153\u001b[0m     \u001b[0;32mdef\u001b[0m \u001b[0m__array_wrap__\u001b[0m\u001b[0;34m(\u001b[0m\u001b[0mself\u001b[0m\u001b[0;34m,\u001b[0m \u001b[0mresult\u001b[0m\u001b[0;34m,\u001b[0m \u001b[0mcontext\u001b[0m\u001b[0;34m=\u001b[0m\u001b[0;32mNone\u001b[0m\u001b[0;34m)\u001b[0m\u001b[0;34m:\u001b[0m\u001b[0;34m\u001b[0m\u001b[0m\n",
      "\u001b[0;32mpandas/_libs/lib.pyx\u001b[0m in \u001b[0;36mpandas._libs.lib.values_from_object\u001b[0;34m()\u001b[0m\n",
      "\u001b[0;32m~/anaconda3/lib/python3.6/site-packages/pandas/core/generic.py\u001b[0m in \u001b[0;36mget_values\u001b[0;34m(self)\u001b[0m\n\u001b[1;32m   3823\u001b[0m     \u001b[0;32mdef\u001b[0m \u001b[0mget_values\u001b[0m\u001b[0;34m(\u001b[0m\u001b[0mself\u001b[0m\u001b[0;34m)\u001b[0m\u001b[0;34m:\u001b[0m\u001b[0;34m\u001b[0m\u001b[0m\n\u001b[1;32m   3824\u001b[0m         \u001b[0;34m\"\"\"same as values (but handles sparseness conversions)\"\"\"\u001b[0m\u001b[0;34m\u001b[0m\u001b[0m\n\u001b[0;32m-> 3825\u001b[0;31m         \u001b[0;32mreturn\u001b[0m \u001b[0mself\u001b[0m\u001b[0;34m.\u001b[0m\u001b[0mas_matrix\u001b[0m\u001b[0;34m(\u001b[0m\u001b[0;34m)\u001b[0m\u001b[0;34m\u001b[0m\u001b[0m\n\u001b[0m\u001b[1;32m   3826\u001b[0m \u001b[0;34m\u001b[0m\u001b[0m\n\u001b[1;32m   3827\u001b[0m     \u001b[0;32mdef\u001b[0m \u001b[0mget_dtype_counts\u001b[0m\u001b[0;34m(\u001b[0m\u001b[0mself\u001b[0m\u001b[0;34m)\u001b[0m\u001b[0;34m:\u001b[0m\u001b[0;34m\u001b[0m\u001b[0m\n",
      "\u001b[0;32m~/anaconda3/lib/python3.6/site-packages/pandas/core/generic.py\u001b[0m in \u001b[0;36mas_matrix\u001b[0;34m(self, columns)\u001b[0m\n\u001b[1;32m   3788\u001b[0m         \u001b[0mpandas\u001b[0m\u001b[0;34m.\u001b[0m\u001b[0mDataFrame\u001b[0m\u001b[0;34m.\u001b[0m\u001b[0mvalues\u001b[0m\u001b[0;34m\u001b[0m\u001b[0m\n\u001b[1;32m   3789\u001b[0m         \"\"\"\n\u001b[0;32m-> 3790\u001b[0;31m         \u001b[0mself\u001b[0m\u001b[0;34m.\u001b[0m\u001b[0m_consolidate_inplace\u001b[0m\u001b[0;34m(\u001b[0m\u001b[0;34m)\u001b[0m\u001b[0;34m\u001b[0m\u001b[0m\n\u001b[0m\u001b[1;32m   3791\u001b[0m         \u001b[0;32mif\u001b[0m \u001b[0mself\u001b[0m\u001b[0;34m.\u001b[0m\u001b[0m_AXIS_REVERSED\u001b[0m\u001b[0;34m:\u001b[0m\u001b[0;34m\u001b[0m\u001b[0m\n\u001b[1;32m   3792\u001b[0m             \u001b[0;32mreturn\u001b[0m \u001b[0mself\u001b[0m\u001b[0;34m.\u001b[0m\u001b[0m_data\u001b[0m\u001b[0;34m.\u001b[0m\u001b[0mas_matrix\u001b[0m\u001b[0;34m(\u001b[0m\u001b[0mcolumns\u001b[0m\u001b[0;34m)\u001b[0m\u001b[0;34m.\u001b[0m\u001b[0mT\u001b[0m\u001b[0;34m\u001b[0m\u001b[0m\n",
      "\u001b[0;32m~/anaconda3/lib/python3.6/site-packages/pandas/core/generic.py\u001b[0m in \u001b[0;36m_consolidate_inplace\u001b[0;34m(self)\u001b[0m\n\u001b[1;32m   3675\u001b[0m             \u001b[0mself\u001b[0m\u001b[0;34m.\u001b[0m\u001b[0m_data\u001b[0m \u001b[0;34m=\u001b[0m \u001b[0mself\u001b[0m\u001b[0;34m.\u001b[0m\u001b[0m_data\u001b[0m\u001b[0;34m.\u001b[0m\u001b[0mconsolidate\u001b[0m\u001b[0;34m(\u001b[0m\u001b[0;34m)\u001b[0m\u001b[0;34m\u001b[0m\u001b[0m\n\u001b[1;32m   3676\u001b[0m \u001b[0;34m\u001b[0m\u001b[0m\n\u001b[0;32m-> 3677\u001b[0;31m         \u001b[0mself\u001b[0m\u001b[0;34m.\u001b[0m\u001b[0m_protect_consolidate\u001b[0m\u001b[0;34m(\u001b[0m\u001b[0mf\u001b[0m\u001b[0;34m)\u001b[0m\u001b[0;34m\u001b[0m\u001b[0m\n\u001b[0m\u001b[1;32m   3678\u001b[0m \u001b[0;34m\u001b[0m\u001b[0m\n\u001b[1;32m   3679\u001b[0m     \u001b[0;32mdef\u001b[0m \u001b[0m_consolidate\u001b[0m\u001b[0;34m(\u001b[0m\u001b[0mself\u001b[0m\u001b[0;34m,\u001b[0m \u001b[0minplace\u001b[0m\u001b[0;34m=\u001b[0m\u001b[0;32mFalse\u001b[0m\u001b[0;34m)\u001b[0m\u001b[0;34m:\u001b[0m\u001b[0;34m\u001b[0m\u001b[0m\n",
      "\u001b[0;32m~/anaconda3/lib/python3.6/site-packages/pandas/core/generic.py\u001b[0m in \u001b[0;36m_protect_consolidate\u001b[0;34m(self, f)\u001b[0m\n\u001b[1;32m   3664\u001b[0m         \"\"\"\n\u001b[1;32m   3665\u001b[0m         \u001b[0mblocks_before\u001b[0m \u001b[0;34m=\u001b[0m \u001b[0mlen\u001b[0m\u001b[0;34m(\u001b[0m\u001b[0mself\u001b[0m\u001b[0;34m.\u001b[0m\u001b[0m_data\u001b[0m\u001b[0;34m.\u001b[0m\u001b[0mblocks\u001b[0m\u001b[0;34m)\u001b[0m\u001b[0;34m\u001b[0m\u001b[0m\n\u001b[0;32m-> 3666\u001b[0;31m         \u001b[0mresult\u001b[0m \u001b[0;34m=\u001b[0m \u001b[0mf\u001b[0m\u001b[0;34m(\u001b[0m\u001b[0;34m)\u001b[0m\u001b[0;34m\u001b[0m\u001b[0m\n\u001b[0m\u001b[1;32m   3667\u001b[0m         \u001b[0;32mif\u001b[0m \u001b[0mlen\u001b[0m\u001b[0;34m(\u001b[0m\u001b[0mself\u001b[0m\u001b[0;34m.\u001b[0m\u001b[0m_data\u001b[0m\u001b[0;34m.\u001b[0m\u001b[0mblocks\u001b[0m\u001b[0;34m)\u001b[0m \u001b[0;34m!=\u001b[0m \u001b[0mblocks_before\u001b[0m\u001b[0;34m:\u001b[0m\u001b[0;34m\u001b[0m\u001b[0m\n\u001b[1;32m   3668\u001b[0m             \u001b[0mself\u001b[0m\u001b[0;34m.\u001b[0m\u001b[0m_clear_item_cache\u001b[0m\u001b[0;34m(\u001b[0m\u001b[0;34m)\u001b[0m\u001b[0;34m\u001b[0m\u001b[0m\n",
      "\u001b[0;32m~/anaconda3/lib/python3.6/site-packages/pandas/core/generic.py\u001b[0m in \u001b[0;36mf\u001b[0;34m()\u001b[0m\n\u001b[1;32m   3673\u001b[0m \u001b[0;34m\u001b[0m\u001b[0m\n\u001b[1;32m   3674\u001b[0m         \u001b[0;32mdef\u001b[0m \u001b[0mf\u001b[0m\u001b[0;34m(\u001b[0m\u001b[0;34m)\u001b[0m\u001b[0;34m:\u001b[0m\u001b[0;34m\u001b[0m\u001b[0m\n\u001b[0;32m-> 3675\u001b[0;31m             \u001b[0mself\u001b[0m\u001b[0;34m.\u001b[0m\u001b[0m_data\u001b[0m \u001b[0;34m=\u001b[0m \u001b[0mself\u001b[0m\u001b[0;34m.\u001b[0m\u001b[0m_data\u001b[0m\u001b[0;34m.\u001b[0m\u001b[0mconsolidate\u001b[0m\u001b[0;34m(\u001b[0m\u001b[0;34m)\u001b[0m\u001b[0;34m\u001b[0m\u001b[0m\n\u001b[0m\u001b[1;32m   3676\u001b[0m \u001b[0;34m\u001b[0m\u001b[0m\n\u001b[1;32m   3677\u001b[0m         \u001b[0mself\u001b[0m\u001b[0;34m.\u001b[0m\u001b[0m_protect_consolidate\u001b[0m\u001b[0;34m(\u001b[0m\u001b[0mf\u001b[0m\u001b[0;34m)\u001b[0m\u001b[0;34m\u001b[0m\u001b[0m\n",
      "\u001b[0;32m~/anaconda3/lib/python3.6/site-packages/pandas/core/internals.py\u001b[0m in \u001b[0;36mconsolidate\u001b[0;34m(self)\u001b[0m\n\u001b[1;32m   3824\u001b[0m         \u001b[0mbm\u001b[0m \u001b[0;34m=\u001b[0m \u001b[0mself\u001b[0m\u001b[0;34m.\u001b[0m\u001b[0m__class__\u001b[0m\u001b[0;34m(\u001b[0m\u001b[0mself\u001b[0m\u001b[0;34m.\u001b[0m\u001b[0mblocks\u001b[0m\u001b[0;34m,\u001b[0m \u001b[0mself\u001b[0m\u001b[0;34m.\u001b[0m\u001b[0maxes\u001b[0m\u001b[0;34m)\u001b[0m\u001b[0;34m\u001b[0m\u001b[0m\n\u001b[1;32m   3825\u001b[0m         \u001b[0mbm\u001b[0m\u001b[0;34m.\u001b[0m\u001b[0m_is_consolidated\u001b[0m \u001b[0;34m=\u001b[0m \u001b[0;32mFalse\u001b[0m\u001b[0;34m\u001b[0m\u001b[0m\n\u001b[0;32m-> 3826\u001b[0;31m         \u001b[0mbm\u001b[0m\u001b[0;34m.\u001b[0m\u001b[0m_consolidate_inplace\u001b[0m\u001b[0;34m(\u001b[0m\u001b[0;34m)\u001b[0m\u001b[0;34m\u001b[0m\u001b[0m\n\u001b[0m\u001b[1;32m   3827\u001b[0m         \u001b[0;32mreturn\u001b[0m \u001b[0mbm\u001b[0m\u001b[0;34m\u001b[0m\u001b[0m\n\u001b[1;32m   3828\u001b[0m \u001b[0;34m\u001b[0m\u001b[0m\n",
      "\u001b[0;32m~/anaconda3/lib/python3.6/site-packages/pandas/core/internals.py\u001b[0m in \u001b[0;36m_consolidate_inplace\u001b[0;34m(self)\u001b[0m\n\u001b[1;32m   3829\u001b[0m     \u001b[0;32mdef\u001b[0m \u001b[0m_consolidate_inplace\u001b[0m\u001b[0;34m(\u001b[0m\u001b[0mself\u001b[0m\u001b[0;34m)\u001b[0m\u001b[0;34m:\u001b[0m\u001b[0;34m\u001b[0m\u001b[0m\n\u001b[1;32m   3830\u001b[0m         \u001b[0;32mif\u001b[0m \u001b[0;32mnot\u001b[0m \u001b[0mself\u001b[0m\u001b[0;34m.\u001b[0m\u001b[0mis_consolidated\u001b[0m\u001b[0;34m(\u001b[0m\u001b[0;34m)\u001b[0m\u001b[0;34m:\u001b[0m\u001b[0;34m\u001b[0m\u001b[0m\n\u001b[0;32m-> 3831\u001b[0;31m             \u001b[0mself\u001b[0m\u001b[0;34m.\u001b[0m\u001b[0mblocks\u001b[0m \u001b[0;34m=\u001b[0m \u001b[0mtuple\u001b[0m\u001b[0;34m(\u001b[0m\u001b[0m_consolidate\u001b[0m\u001b[0;34m(\u001b[0m\u001b[0mself\u001b[0m\u001b[0;34m.\u001b[0m\u001b[0mblocks\u001b[0m\u001b[0;34m)\u001b[0m\u001b[0;34m)\u001b[0m\u001b[0;34m\u001b[0m\u001b[0m\n\u001b[0m\u001b[1;32m   3832\u001b[0m             \u001b[0mself\u001b[0m\u001b[0;34m.\u001b[0m\u001b[0m_is_consolidated\u001b[0m \u001b[0;34m=\u001b[0m \u001b[0;32mTrue\u001b[0m\u001b[0;34m\u001b[0m\u001b[0m\n\u001b[1;32m   3833\u001b[0m             \u001b[0mself\u001b[0m\u001b[0;34m.\u001b[0m\u001b[0m_known_consolidated\u001b[0m \u001b[0;34m=\u001b[0m \u001b[0;32mTrue\u001b[0m\u001b[0;34m\u001b[0m\u001b[0m\n",
      "\u001b[0;32m~/anaconda3/lib/python3.6/site-packages/pandas/core/internals.py\u001b[0m in \u001b[0;36m_consolidate\u001b[0;34m(blocks)\u001b[0m\n\u001b[1;32m   4851\u001b[0m     \u001b[0;32mfor\u001b[0m \u001b[0;34m(\u001b[0m\u001b[0m_can_consolidate\u001b[0m\u001b[0;34m,\u001b[0m \u001b[0mdtype\u001b[0m\u001b[0;34m)\u001b[0m\u001b[0;34m,\u001b[0m \u001b[0mgroup_blocks\u001b[0m \u001b[0;32min\u001b[0m \u001b[0mgrouper\u001b[0m\u001b[0;34m:\u001b[0m\u001b[0;34m\u001b[0m\u001b[0m\n\u001b[1;32m   4852\u001b[0m         merged_blocks = _merge_blocks(list(group_blocks), dtype=dtype,\n\u001b[0;32m-> 4853\u001b[0;31m                                       _can_consolidate=_can_consolidate)\n\u001b[0m\u001b[1;32m   4854\u001b[0m         \u001b[0mnew_blocks\u001b[0m \u001b[0;34m=\u001b[0m \u001b[0m_extend_blocks\u001b[0m\u001b[0;34m(\u001b[0m\u001b[0mmerged_blocks\u001b[0m\u001b[0;34m,\u001b[0m \u001b[0mnew_blocks\u001b[0m\u001b[0;34m)\u001b[0m\u001b[0;34m\u001b[0m\u001b[0m\n\u001b[1;32m   4855\u001b[0m     \u001b[0;32mreturn\u001b[0m \u001b[0mnew_blocks\u001b[0m\u001b[0;34m\u001b[0m\u001b[0m\n",
      "\u001b[0;32m~/anaconda3/lib/python3.6/site-packages/pandas/core/internals.py\u001b[0m in \u001b[0;36m_merge_blocks\u001b[0;34m(blocks, dtype, _can_consolidate)\u001b[0m\n\u001b[1;32m   4874\u001b[0m \u001b[0;34m\u001b[0m\u001b[0m\n\u001b[1;32m   4875\u001b[0m         \u001b[0margsort\u001b[0m \u001b[0;34m=\u001b[0m \u001b[0mnp\u001b[0m\u001b[0;34m.\u001b[0m\u001b[0margsort\u001b[0m\u001b[0;34m(\u001b[0m\u001b[0mnew_mgr_locs\u001b[0m\u001b[0;34m)\u001b[0m\u001b[0;34m\u001b[0m\u001b[0m\n\u001b[0;32m-> 4876\u001b[0;31m         \u001b[0mnew_values\u001b[0m \u001b[0;34m=\u001b[0m \u001b[0mnew_values\u001b[0m\u001b[0;34m[\u001b[0m\u001b[0margsort\u001b[0m\u001b[0;34m]\u001b[0m\u001b[0;34m\u001b[0m\u001b[0m\n\u001b[0m\u001b[1;32m   4877\u001b[0m         \u001b[0mnew_mgr_locs\u001b[0m \u001b[0;34m=\u001b[0m \u001b[0mnew_mgr_locs\u001b[0m\u001b[0;34m[\u001b[0m\u001b[0margsort\u001b[0m\u001b[0;34m]\u001b[0m\u001b[0;34m\u001b[0m\u001b[0m\n\u001b[1;32m   4878\u001b[0m \u001b[0;34m\u001b[0m\u001b[0m\n",
      "\u001b[0;31mMemoryError\u001b[0m: "
     ]
    }
   ],
   "source": [
    "model = LinearRegression()\n",
    "model.fit(X,y)\n",
    "y_pred=grid.predict(X)\n",
    "print(errorValue(y_pred,y,wt))"
   ]
  },
  {
   "cell_type": "code",
   "execution_count": null,
   "metadata": {},
   "outputs": [],
   "source": []
  }
 ],
 "metadata": {
  "kernelspec": {
   "display_name": "Python 3",
   "language": "python",
   "name": "python3"
  },
  "language_info": {
   "codemirror_mode": {
    "name": "ipython",
    "version": 3
   },
   "file_extension": ".py",
   "mimetype": "text/x-python",
   "name": "python",
   "nbconvert_exporter": "python",
   "pygments_lexer": "ipython3",
   "version": "3.6.4"
  }
 },
 "nbformat": 4,
 "nbformat_minor": 2
}
